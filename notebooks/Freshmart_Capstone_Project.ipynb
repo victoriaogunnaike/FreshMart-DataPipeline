{
 "cells": [
  {
   "cell_type": "code",
   "execution_count": 1,
   "id": "c34f6376",
   "metadata": {},
   "outputs": [],
   "source": [
    "import pandas as pd"
   ]
  },
  {
   "cell_type": "code",
   "execution_count": null,
   "id": "fc9a253d",
   "metadata": {},
   "outputs": [],
   "source": []
  },
  {
   "cell_type": "markdown",
   "id": "9c7921f7",
   "metadata": {},
   "source": [
    "### Part A: Data Ingestion & Transformation with Pandas"
   ]
  },
  {
   "cell_type": "code",
   "execution_count": 2,
   "id": "dffad7fa",
   "metadata": {},
   "outputs": [],
   "source": [
    "df=pd.read_csv('freshmart_products_csv - freshmart_products_csv.csv')"
   ]
  },
  {
   "cell_type": "code",
   "execution_count": 3,
   "id": "7b7d735a",
   "metadata": {},
   "outputs": [
    {
     "data": {
      "text/html": [
       "<div>\n",
       "<style scoped>\n",
       "    .dataframe tbody tr th:only-of-type {\n",
       "        vertical-align: middle;\n",
       "    }\n",
       "\n",
       "    .dataframe tbody tr th {\n",
       "        vertical-align: top;\n",
       "    }\n",
       "\n",
       "    .dataframe thead th {\n",
       "        text-align: right;\n",
       "    }\n",
       "</style>\n",
       "<table border=\"1\" class=\"dataframe\">\n",
       "  <thead>\n",
       "    <tr style=\"text-align: right;\">\n",
       "      <th></th>\n",
       "      <th>ProductID</th>\n",
       "      <th>ProductName</th>\n",
       "      <th>Category</th>\n",
       "      <th>Price</th>\n",
       "      <th>StockQuantity</th>\n",
       "    </tr>\n",
       "  </thead>\n",
       "  <tbody>\n",
       "    <tr>\n",
       "      <th>0</th>\n",
       "      <td>1</td>\n",
       "      <td>Milk 1</td>\n",
       "      <td>Dairy</td>\n",
       "      <td>19.35</td>\n",
       "      <td>358.0</td>\n",
       "    </tr>\n",
       "    <tr>\n",
       "      <th>1</th>\n",
       "      <td>2</td>\n",
       "      <td>Cola 2</td>\n",
       "      <td>Beverages</td>\n",
       "      <td>9.99</td>\n",
       "      <td>81.0</td>\n",
       "    </tr>\n",
       "    <tr>\n",
       "      <th>2</th>\n",
       "      <td>3</td>\n",
       "      <td>Banana 3</td>\n",
       "      <td>Produce</td>\n",
       "      <td>30.33</td>\n",
       "      <td>112.0</td>\n",
       "    </tr>\n",
       "    <tr>\n",
       "      <th>3</th>\n",
       "      <td>4</td>\n",
       "      <td>Cream 4</td>\n",
       "      <td>Dairy</td>\n",
       "      <td>22.85</td>\n",
       "      <td>224.0</td>\n",
       "    </tr>\n",
       "    <tr>\n",
       "      <th>4</th>\n",
       "      <td>5</td>\n",
       "      <td>Cream 5</td>\n",
       "      <td>Dairy</td>\n",
       "      <td>3.85</td>\n",
       "      <td>97.0</td>\n",
       "    </tr>\n",
       "    <tr>\n",
       "      <th>...</th>\n",
       "      <td>...</td>\n",
       "      <td>...</td>\n",
       "      <td>...</td>\n",
       "      <td>...</td>\n",
       "      <td>...</td>\n",
       "    </tr>\n",
       "    <tr>\n",
       "      <th>200</th>\n",
       "      <td>96</td>\n",
       "      <td>Apple 96</td>\n",
       "      <td>Produce</td>\n",
       "      <td>3.52</td>\n",
       "      <td>494.0</td>\n",
       "    </tr>\n",
       "    <tr>\n",
       "      <th>201</th>\n",
       "      <td>16</td>\n",
       "      <td>Coffee 16</td>\n",
       "      <td>Beverages</td>\n",
       "      <td>18.95</td>\n",
       "      <td>199.0</td>\n",
       "    </tr>\n",
       "    <tr>\n",
       "      <th>202</th>\n",
       "      <td>31</td>\n",
       "      <td>Apple 31</td>\n",
       "      <td>Produce</td>\n",
       "      <td>21.83</td>\n",
       "      <td>63.0</td>\n",
       "    </tr>\n",
       "    <tr>\n",
       "      <th>203</th>\n",
       "      <td>159</td>\n",
       "      <td>Tea 159</td>\n",
       "      <td>Beverages</td>\n",
       "      <td>19.14</td>\n",
       "      <td>242.0</td>\n",
       "    </tr>\n",
       "    <tr>\n",
       "      <th>204</th>\n",
       "      <td>129</td>\n",
       "      <td>Muffin 129</td>\n",
       "      <td>Bakery</td>\n",
       "      <td>42.96</td>\n",
       "      <td>63.0</td>\n",
       "    </tr>\n",
       "  </tbody>\n",
       "</table>\n",
       "<p>205 rows × 5 columns</p>\n",
       "</div>"
      ],
      "text/plain": [
       "     ProductID ProductName   Category  Price  StockQuantity\n",
       "0            1      Milk 1      Dairy  19.35          358.0\n",
       "1            2      Cola 2  Beverages   9.99           81.0\n",
       "2            3    Banana 3    Produce  30.33          112.0\n",
       "3            4     Cream 4      Dairy  22.85          224.0\n",
       "4            5     Cream 5      Dairy   3.85           97.0\n",
       "..         ...         ...        ...    ...            ...\n",
       "200         96    Apple 96    Produce   3.52          494.0\n",
       "201         16   Coffee 16  Beverages  18.95          199.0\n",
       "202         31    Apple 31    Produce  21.83           63.0\n",
       "203        159     Tea 159  Beverages  19.14          242.0\n",
       "204        129  Muffin 129     Bakery  42.96           63.0\n",
       "\n",
       "[205 rows x 5 columns]"
      ]
     },
     "execution_count": 3,
     "metadata": {},
     "output_type": "execute_result"
    }
   ],
   "source": [
    "df"
   ]
  },
  {
   "cell_type": "markdown",
   "id": "18d3adbb",
   "metadata": {},
   "source": [
    "#### 2. Display the first 5 rows"
   ]
  },
  {
   "cell_type": "code",
   "execution_count": 4,
   "id": "666c5afe",
   "metadata": {},
   "outputs": [
    {
     "data": {
      "text/html": [
       "<div>\n",
       "<style scoped>\n",
       "    .dataframe tbody tr th:only-of-type {\n",
       "        vertical-align: middle;\n",
       "    }\n",
       "\n",
       "    .dataframe tbody tr th {\n",
       "        vertical-align: top;\n",
       "    }\n",
       "\n",
       "    .dataframe thead th {\n",
       "        text-align: right;\n",
       "    }\n",
       "</style>\n",
       "<table border=\"1\" class=\"dataframe\">\n",
       "  <thead>\n",
       "    <tr style=\"text-align: right;\">\n",
       "      <th></th>\n",
       "      <th>ProductID</th>\n",
       "      <th>ProductName</th>\n",
       "      <th>Category</th>\n",
       "      <th>Price</th>\n",
       "      <th>StockQuantity</th>\n",
       "    </tr>\n",
       "  </thead>\n",
       "  <tbody>\n",
       "    <tr>\n",
       "      <th>0</th>\n",
       "      <td>1</td>\n",
       "      <td>Milk 1</td>\n",
       "      <td>Dairy</td>\n",
       "      <td>19.35</td>\n",
       "      <td>358.0</td>\n",
       "    </tr>\n",
       "    <tr>\n",
       "      <th>1</th>\n",
       "      <td>2</td>\n",
       "      <td>Cola 2</td>\n",
       "      <td>Beverages</td>\n",
       "      <td>9.99</td>\n",
       "      <td>81.0</td>\n",
       "    </tr>\n",
       "    <tr>\n",
       "      <th>2</th>\n",
       "      <td>3</td>\n",
       "      <td>Banana 3</td>\n",
       "      <td>Produce</td>\n",
       "      <td>30.33</td>\n",
       "      <td>112.0</td>\n",
       "    </tr>\n",
       "    <tr>\n",
       "      <th>3</th>\n",
       "      <td>4</td>\n",
       "      <td>Cream 4</td>\n",
       "      <td>Dairy</td>\n",
       "      <td>22.85</td>\n",
       "      <td>224.0</td>\n",
       "    </tr>\n",
       "    <tr>\n",
       "      <th>4</th>\n",
       "      <td>5</td>\n",
       "      <td>Cream 5</td>\n",
       "      <td>Dairy</td>\n",
       "      <td>3.85</td>\n",
       "      <td>97.0</td>\n",
       "    </tr>\n",
       "  </tbody>\n",
       "</table>\n",
       "</div>"
      ],
      "text/plain": [
       "   ProductID ProductName   Category  Price  StockQuantity\n",
       "0          1      Milk 1      Dairy  19.35          358.0\n",
       "1          2      Cola 2  Beverages   9.99           81.0\n",
       "2          3    Banana 3    Produce  30.33          112.0\n",
       "3          4     Cream 4      Dairy  22.85          224.0\n",
       "4          5     Cream 5      Dairy   3.85           97.0"
      ]
     },
     "execution_count": 4,
     "metadata": {},
     "output_type": "execute_result"
    }
   ],
   "source": [
    "df.head()\n",
    "#df.head(5)"
   ]
  },
  {
   "cell_type": "code",
   "execution_count": 5,
   "id": "f7631615",
   "metadata": {},
   "outputs": [
    {
     "data": {
      "text/html": [
       "<div>\n",
       "<style scoped>\n",
       "    .dataframe tbody tr th:only-of-type {\n",
       "        vertical-align: middle;\n",
       "    }\n",
       "\n",
       "    .dataframe tbody tr th {\n",
       "        vertical-align: top;\n",
       "    }\n",
       "\n",
       "    .dataframe thead th {\n",
       "        text-align: right;\n",
       "    }\n",
       "</style>\n",
       "<table border=\"1\" class=\"dataframe\">\n",
       "  <thead>\n",
       "    <tr style=\"text-align: right;\">\n",
       "      <th></th>\n",
       "      <th>ProductID</th>\n",
       "      <th>Price</th>\n",
       "      <th>StockQuantity</th>\n",
       "    </tr>\n",
       "  </thead>\n",
       "  <tbody>\n",
       "    <tr>\n",
       "      <th>count</th>\n",
       "      <td>205.000000</td>\n",
       "      <td>200.000000</td>\n",
       "      <td>200.000000</td>\n",
       "    </tr>\n",
       "    <tr>\n",
       "      <th>mean</th>\n",
       "      <td>100.151220</td>\n",
       "      <td>24.504300</td>\n",
       "      <td>264.050000</td>\n",
       "    </tr>\n",
       "    <tr>\n",
       "      <th>std</th>\n",
       "      <td>57.855902</td>\n",
       "      <td>14.141815</td>\n",
       "      <td>139.664809</td>\n",
       "    </tr>\n",
       "    <tr>\n",
       "      <th>min</th>\n",
       "      <td>1.000000</td>\n",
       "      <td>1.040000</td>\n",
       "      <td>11.000000</td>\n",
       "    </tr>\n",
       "    <tr>\n",
       "      <th>25%</th>\n",
       "      <td>50.000000</td>\n",
       "      <td>12.937500</td>\n",
       "      <td>145.500000</td>\n",
       "    </tr>\n",
       "    <tr>\n",
       "      <th>50%</th>\n",
       "      <td>100.000000</td>\n",
       "      <td>24.770000</td>\n",
       "      <td>266.500000</td>\n",
       "    </tr>\n",
       "    <tr>\n",
       "      <th>75%</th>\n",
       "      <td>150.000000</td>\n",
       "      <td>35.830000</td>\n",
       "      <td>394.000000</td>\n",
       "    </tr>\n",
       "    <tr>\n",
       "      <th>max</th>\n",
       "      <td>200.000000</td>\n",
       "      <td>49.510000</td>\n",
       "      <td>499.000000</td>\n",
       "    </tr>\n",
       "  </tbody>\n",
       "</table>\n",
       "</div>"
      ],
      "text/plain": [
       "        ProductID       Price  StockQuantity\n",
       "count  205.000000  200.000000     200.000000\n",
       "mean   100.151220   24.504300     264.050000\n",
       "std     57.855902   14.141815     139.664809\n",
       "min      1.000000    1.040000      11.000000\n",
       "25%     50.000000   12.937500     145.500000\n",
       "50%    100.000000   24.770000     266.500000\n",
       "75%    150.000000   35.830000     394.000000\n",
       "max    200.000000   49.510000     499.000000"
      ]
     },
     "execution_count": 5,
     "metadata": {},
     "output_type": "execute_result"
    }
   ],
   "source": [
    "df.describe()"
   ]
  },
  {
   "cell_type": "code",
   "execution_count": 6,
   "id": "0fb30af6",
   "metadata": {},
   "outputs": [
    {
     "name": "stdout",
     "output_type": "stream",
     "text": [
      "<class 'pandas.core.frame.DataFrame'>\n",
      "RangeIndex: 205 entries, 0 to 204\n",
      "Data columns (total 5 columns):\n",
      " #   Column         Non-Null Count  Dtype  \n",
      "---  ------         --------------  -----  \n",
      " 0   ProductID      205 non-null    int64  \n",
      " 1   ProductName    205 non-null    object \n",
      " 2   Category       205 non-null    object \n",
      " 3   Price          200 non-null    float64\n",
      " 4   StockQuantity  200 non-null    float64\n",
      "dtypes: float64(2), int64(1), object(2)\n",
      "memory usage: 8.1+ KB\n"
     ]
    }
   ],
   "source": [
    "df.info()"
   ]
  },
  {
   "cell_type": "code",
   "execution_count": 7,
   "id": "12a567cb",
   "metadata": {},
   "outputs": [
    {
     "data": {
      "text/plain": [
       "ProductID        0\n",
       "ProductName      0\n",
       "Category         0\n",
       "Price            5\n",
       "StockQuantity    5\n",
       "dtype: int64"
      ]
     },
     "execution_count": 7,
     "metadata": {},
     "output_type": "execute_result"
    }
   ],
   "source": [
    "df.isnull().sum()"
   ]
  },
  {
   "cell_type": "code",
   "execution_count": 8,
   "id": "993e948c",
   "metadata": {},
   "outputs": [
    {
     "data": {
      "text/html": [
       "<div>\n",
       "<style scoped>\n",
       "    .dataframe tbody tr th:only-of-type {\n",
       "        vertical-align: middle;\n",
       "    }\n",
       "\n",
       "    .dataframe tbody tr th {\n",
       "        vertical-align: top;\n",
       "    }\n",
       "\n",
       "    .dataframe thead th {\n",
       "        text-align: right;\n",
       "    }\n",
       "</style>\n",
       "<table border=\"1\" class=\"dataframe\">\n",
       "  <thead>\n",
       "    <tr style=\"text-align: right;\">\n",
       "      <th></th>\n",
       "      <th>ProductID</th>\n",
       "      <th>ProductName</th>\n",
       "      <th>Category</th>\n",
       "      <th>Price</th>\n",
       "      <th>StockQuantity</th>\n",
       "    </tr>\n",
       "  </thead>\n",
       "  <tbody>\n",
       "    <tr>\n",
       "      <th>78</th>\n",
       "      <td>79</td>\n",
       "      <td>Bread 79</td>\n",
       "      <td>Bakery</td>\n",
       "      <td>NaN</td>\n",
       "      <td>199.0</td>\n",
       "    </tr>\n",
       "    <tr>\n",
       "      <th>98</th>\n",
       "      <td>99</td>\n",
       "      <td>Tomato 99</td>\n",
       "      <td>Produce</td>\n",
       "      <td>NaN</td>\n",
       "      <td>227.0</td>\n",
       "    </tr>\n",
       "    <tr>\n",
       "      <th>101</th>\n",
       "      <td>102</td>\n",
       "      <td>Apple 102</td>\n",
       "      <td>Produce</td>\n",
       "      <td>NaN</td>\n",
       "      <td>132.0</td>\n",
       "    </tr>\n",
       "    <tr>\n",
       "      <th>181</th>\n",
       "      <td>182</td>\n",
       "      <td>Milk 182</td>\n",
       "      <td>Dairy</td>\n",
       "      <td>NaN</td>\n",
       "      <td>409.0</td>\n",
       "    </tr>\n",
       "    <tr>\n",
       "      <th>195</th>\n",
       "      <td>196</td>\n",
       "      <td>Orange Juice 196</td>\n",
       "      <td>Beverages</td>\n",
       "      <td>NaN</td>\n",
       "      <td>489.0</td>\n",
       "    </tr>\n",
       "  </tbody>\n",
       "</table>\n",
       "</div>"
      ],
      "text/plain": [
       "     ProductID       ProductName   Category  Price  StockQuantity\n",
       "78          79          Bread 79     Bakery    NaN          199.0\n",
       "98          99         Tomato 99    Produce    NaN          227.0\n",
       "101        102         Apple 102    Produce    NaN          132.0\n",
       "181        182          Milk 182      Dairy    NaN          409.0\n",
       "195        196  Orange Juice 196  Beverages    NaN          489.0"
      ]
     },
     "execution_count": 8,
     "metadata": {},
     "output_type": "execute_result"
    }
   ],
   "source": [
    "df[df['Price'].isnull()]"
   ]
  },
  {
   "cell_type": "code",
   "execution_count": 9,
   "id": "bda7bd36",
   "metadata": {},
   "outputs": [
    {
     "data": {
      "text/html": [
       "<div>\n",
       "<style scoped>\n",
       "    .dataframe tbody tr th:only-of-type {\n",
       "        vertical-align: middle;\n",
       "    }\n",
       "\n",
       "    .dataframe tbody tr th {\n",
       "        vertical-align: top;\n",
       "    }\n",
       "\n",
       "    .dataframe thead th {\n",
       "        text-align: right;\n",
       "    }\n",
       "</style>\n",
       "<table border=\"1\" class=\"dataframe\">\n",
       "  <thead>\n",
       "    <tr style=\"text-align: right;\">\n",
       "      <th></th>\n",
       "      <th>ProductID</th>\n",
       "      <th>ProductName</th>\n",
       "      <th>Category</th>\n",
       "      <th>Price</th>\n",
       "      <th>StockQuantity</th>\n",
       "    </tr>\n",
       "  </thead>\n",
       "  <tbody>\n",
       "    <tr>\n",
       "      <th>6</th>\n",
       "      <td>7</td>\n",
       "      <td>Milk 7</td>\n",
       "      <td>Dairy</td>\n",
       "      <td>35.70</td>\n",
       "      <td>NaN</td>\n",
       "    </tr>\n",
       "    <tr>\n",
       "      <th>88</th>\n",
       "      <td>89</td>\n",
       "      <td>Granola Bar 89</td>\n",
       "      <td>Snacks</td>\n",
       "      <td>28.35</td>\n",
       "      <td>NaN</td>\n",
       "    </tr>\n",
       "    <tr>\n",
       "      <th>120</th>\n",
       "      <td>121</td>\n",
       "      <td>Croissant 121</td>\n",
       "      <td>Bakery</td>\n",
       "      <td>9.57</td>\n",
       "      <td>NaN</td>\n",
       "    </tr>\n",
       "    <tr>\n",
       "      <th>129</th>\n",
       "      <td>130</td>\n",
       "      <td>Lettuce 130</td>\n",
       "      <td>Produce</td>\n",
       "      <td>39.21</td>\n",
       "      <td>NaN</td>\n",
       "    </tr>\n",
       "    <tr>\n",
       "      <th>179</th>\n",
       "      <td>180</td>\n",
       "      <td>Mineral Water 180</td>\n",
       "      <td>Beverages</td>\n",
       "      <td>25.57</td>\n",
       "      <td>NaN</td>\n",
       "    </tr>\n",
       "  </tbody>\n",
       "</table>\n",
       "</div>"
      ],
      "text/plain": [
       "     ProductID        ProductName   Category  Price  StockQuantity\n",
       "6            7             Milk 7      Dairy  35.70            NaN\n",
       "88          89     Granola Bar 89     Snacks  28.35            NaN\n",
       "120        121      Croissant 121     Bakery   9.57            NaN\n",
       "129        130        Lettuce 130    Produce  39.21            NaN\n",
       "179        180  Mineral Water 180  Beverages  25.57            NaN"
      ]
     },
     "execution_count": 9,
     "metadata": {},
     "output_type": "execute_result"
    }
   ],
   "source": [
    "df[df['StockQuantity'].isnull()]"
   ]
  },
  {
   "cell_type": "code",
   "execution_count": null,
   "id": "2e8e5a5d",
   "metadata": {},
   "outputs": [],
   "source": []
  },
  {
   "cell_type": "code",
   "execution_count": null,
   "id": "a227f9af",
   "metadata": {},
   "outputs": [],
   "source": []
  },
  {
   "cell_type": "code",
   "execution_count": null,
   "id": "3d484913",
   "metadata": {},
   "outputs": [],
   "source": []
  },
  {
   "cell_type": "code",
   "execution_count": 10,
   "id": "85bc0ae9",
   "metadata": {},
   "outputs": [],
   "source": [
    "df['StockValue']=df['Price'] * df['StockQuantity']"
   ]
  },
  {
   "cell_type": "code",
   "execution_count": 11,
   "id": "ac898a9f",
   "metadata": {},
   "outputs": [
    {
     "data": {
      "text/plain": [
       "ProductID         0\n",
       "ProductName       0\n",
       "Category          0\n",
       "Price             5\n",
       "StockQuantity     5\n",
       "StockValue       10\n",
       "dtype: int64"
      ]
     },
     "execution_count": 11,
     "metadata": {},
     "output_type": "execute_result"
    }
   ],
   "source": [
    "df.isnull().sum()"
   ]
  },
  {
   "cell_type": "code",
   "execution_count": 12,
   "id": "ab39ee7f",
   "metadata": {},
   "outputs": [
    {
     "data": {
      "text/html": [
       "<div>\n",
       "<style scoped>\n",
       "    .dataframe tbody tr th:only-of-type {\n",
       "        vertical-align: middle;\n",
       "    }\n",
       "\n",
       "    .dataframe tbody tr th {\n",
       "        vertical-align: top;\n",
       "    }\n",
       "\n",
       "    .dataframe thead th {\n",
       "        text-align: right;\n",
       "    }\n",
       "</style>\n",
       "<table border=\"1\" class=\"dataframe\">\n",
       "  <thead>\n",
       "    <tr style=\"text-align: right;\">\n",
       "      <th></th>\n",
       "      <th>ProductID</th>\n",
       "      <th>ProductName</th>\n",
       "      <th>Category</th>\n",
       "      <th>Price</th>\n",
       "      <th>StockQuantity</th>\n",
       "      <th>StockValue</th>\n",
       "    </tr>\n",
       "  </thead>\n",
       "  <tbody>\n",
       "    <tr>\n",
       "      <th>6</th>\n",
       "      <td>7</td>\n",
       "      <td>Milk 7</td>\n",
       "      <td>Dairy</td>\n",
       "      <td>35.70</td>\n",
       "      <td>NaN</td>\n",
       "      <td>NaN</td>\n",
       "    </tr>\n",
       "    <tr>\n",
       "      <th>78</th>\n",
       "      <td>79</td>\n",
       "      <td>Bread 79</td>\n",
       "      <td>Bakery</td>\n",
       "      <td>NaN</td>\n",
       "      <td>199.0</td>\n",
       "      <td>NaN</td>\n",
       "    </tr>\n",
       "    <tr>\n",
       "      <th>88</th>\n",
       "      <td>89</td>\n",
       "      <td>Granola Bar 89</td>\n",
       "      <td>Snacks</td>\n",
       "      <td>28.35</td>\n",
       "      <td>NaN</td>\n",
       "      <td>NaN</td>\n",
       "    </tr>\n",
       "    <tr>\n",
       "      <th>98</th>\n",
       "      <td>99</td>\n",
       "      <td>Tomato 99</td>\n",
       "      <td>Produce</td>\n",
       "      <td>NaN</td>\n",
       "      <td>227.0</td>\n",
       "      <td>NaN</td>\n",
       "    </tr>\n",
       "    <tr>\n",
       "      <th>101</th>\n",
       "      <td>102</td>\n",
       "      <td>Apple 102</td>\n",
       "      <td>Produce</td>\n",
       "      <td>NaN</td>\n",
       "      <td>132.0</td>\n",
       "      <td>NaN</td>\n",
       "    </tr>\n",
       "    <tr>\n",
       "      <th>120</th>\n",
       "      <td>121</td>\n",
       "      <td>Croissant 121</td>\n",
       "      <td>Bakery</td>\n",
       "      <td>9.57</td>\n",
       "      <td>NaN</td>\n",
       "      <td>NaN</td>\n",
       "    </tr>\n",
       "    <tr>\n",
       "      <th>129</th>\n",
       "      <td>130</td>\n",
       "      <td>Lettuce 130</td>\n",
       "      <td>Produce</td>\n",
       "      <td>39.21</td>\n",
       "      <td>NaN</td>\n",
       "      <td>NaN</td>\n",
       "    </tr>\n",
       "    <tr>\n",
       "      <th>179</th>\n",
       "      <td>180</td>\n",
       "      <td>Mineral Water 180</td>\n",
       "      <td>Beverages</td>\n",
       "      <td>25.57</td>\n",
       "      <td>NaN</td>\n",
       "      <td>NaN</td>\n",
       "    </tr>\n",
       "    <tr>\n",
       "      <th>181</th>\n",
       "      <td>182</td>\n",
       "      <td>Milk 182</td>\n",
       "      <td>Dairy</td>\n",
       "      <td>NaN</td>\n",
       "      <td>409.0</td>\n",
       "      <td>NaN</td>\n",
       "    </tr>\n",
       "    <tr>\n",
       "      <th>195</th>\n",
       "      <td>196</td>\n",
       "      <td>Orange Juice 196</td>\n",
       "      <td>Beverages</td>\n",
       "      <td>NaN</td>\n",
       "      <td>489.0</td>\n",
       "      <td>NaN</td>\n",
       "    </tr>\n",
       "  </tbody>\n",
       "</table>\n",
       "</div>"
      ],
      "text/plain": [
       "     ProductID        ProductName   Category  Price  StockQuantity  StockValue\n",
       "6            7             Milk 7      Dairy  35.70            NaN         NaN\n",
       "78          79           Bread 79     Bakery    NaN          199.0         NaN\n",
       "88          89     Granola Bar 89     Snacks  28.35            NaN         NaN\n",
       "98          99          Tomato 99    Produce    NaN          227.0         NaN\n",
       "101        102          Apple 102    Produce    NaN          132.0         NaN\n",
       "120        121      Croissant 121     Bakery   9.57            NaN         NaN\n",
       "129        130        Lettuce 130    Produce  39.21            NaN         NaN\n",
       "179        180  Mineral Water 180  Beverages  25.57            NaN         NaN\n",
       "181        182           Milk 182      Dairy    NaN          409.0         NaN\n",
       "195        196   Orange Juice 196  Beverages    NaN          489.0         NaN"
      ]
     },
     "execution_count": 12,
     "metadata": {},
     "output_type": "execute_result"
    }
   ],
   "source": [
    "df[df['StockValue'].isnull()]"
   ]
  },
  {
   "cell_type": "code",
   "execution_count": null,
   "id": "f90d80f9",
   "metadata": {},
   "outputs": [],
   "source": []
  },
  {
   "cell_type": "code",
   "execution_count": 13,
   "id": "63a13a1b",
   "metadata": {},
   "outputs": [],
   "source": [
    "df = df.fillna(0)"
   ]
  },
  {
   "cell_type": "code",
   "execution_count": 14,
   "id": "0e6bbbad",
   "metadata": {},
   "outputs": [
    {
     "data": {
      "text/plain": [
       "ProductID        0\n",
       "ProductName      0\n",
       "Category         0\n",
       "Price            0\n",
       "StockQuantity    0\n",
       "StockValue       0\n",
       "dtype: int64"
      ]
     },
     "execution_count": 14,
     "metadata": {},
     "output_type": "execute_result"
    }
   ],
   "source": [
    "df.isnull().sum()"
   ]
  },
  {
   "cell_type": "code",
   "execution_count": null,
   "id": "97d5ae6a",
   "metadata": {},
   "outputs": [],
   "source": []
  },
  {
   "cell_type": "code",
   "execution_count": 15,
   "id": "d98d1fa4",
   "metadata": {},
   "outputs": [
    {
     "data": {
      "text/plain": [
       "23.90663414634146"
      ]
     },
     "execution_count": 15,
     "metadata": {},
     "output_type": "execute_result"
    }
   ],
   "source": [
    "avg_price=df['Price'].mean()\n",
    "avg_price"
   ]
  },
  {
   "cell_type": "code",
   "execution_count": 16,
   "id": "348ad4ff",
   "metadata": {},
   "outputs": [
    {
     "data": {
      "text/html": [
       "<div>\n",
       "<style scoped>\n",
       "    .dataframe tbody tr th:only-of-type {\n",
       "        vertical-align: middle;\n",
       "    }\n",
       "\n",
       "    .dataframe tbody tr th {\n",
       "        vertical-align: top;\n",
       "    }\n",
       "\n",
       "    .dataframe thead th {\n",
       "        text-align: right;\n",
       "    }\n",
       "</style>\n",
       "<table border=\"1\" class=\"dataframe\">\n",
       "  <thead>\n",
       "    <tr style=\"text-align: right;\">\n",
       "      <th></th>\n",
       "      <th>ProductID</th>\n",
       "      <th>Price</th>\n",
       "      <th>StockQuantity</th>\n",
       "      <th>StockValue</th>\n",
       "    </tr>\n",
       "  </thead>\n",
       "  <tbody>\n",
       "    <tr>\n",
       "      <th>count</th>\n",
       "      <td>205.000000</td>\n",
       "      <td>205.000000</td>\n",
       "      <td>205.000000</td>\n",
       "      <td>205.000000</td>\n",
       "    </tr>\n",
       "    <tr>\n",
       "      <th>mean</th>\n",
       "      <td>100.151220</td>\n",
       "      <td>23.906634</td>\n",
       "      <td>257.609756</td>\n",
       "      <td>5905.074780</td>\n",
       "    </tr>\n",
       "    <tr>\n",
       "      <th>std</th>\n",
       "      <td>57.855902</td>\n",
       "      <td>14.472298</td>\n",
       "      <td>143.858843</td>\n",
       "      <td>5273.973902</td>\n",
       "    </tr>\n",
       "    <tr>\n",
       "      <th>min</th>\n",
       "      <td>1.000000</td>\n",
       "      <td>0.000000</td>\n",
       "      <td>0.000000</td>\n",
       "      <td>0.000000</td>\n",
       "    </tr>\n",
       "    <tr>\n",
       "      <th>25%</th>\n",
       "      <td>50.000000</td>\n",
       "      <td>12.560000</td>\n",
       "      <td>140.000000</td>\n",
       "      <td>1738.880000</td>\n",
       "    </tr>\n",
       "    <tr>\n",
       "      <th>50%</th>\n",
       "      <td>100.000000</td>\n",
       "      <td>22.970000</td>\n",
       "      <td>262.000000</td>\n",
       "      <td>4631.880000</td>\n",
       "    </tr>\n",
       "    <tr>\n",
       "      <th>75%</th>\n",
       "      <td>150.000000</td>\n",
       "      <td>35.700000</td>\n",
       "      <td>386.000000</td>\n",
       "      <td>8689.560000</td>\n",
       "    </tr>\n",
       "    <tr>\n",
       "      <th>max</th>\n",
       "      <td>200.000000</td>\n",
       "      <td>49.510000</td>\n",
       "      <td>499.000000</td>\n",
       "      <td>23562.010000</td>\n",
       "    </tr>\n",
       "  </tbody>\n",
       "</table>\n",
       "</div>"
      ],
      "text/plain": [
       "        ProductID       Price  StockQuantity    StockValue\n",
       "count  205.000000  205.000000     205.000000    205.000000\n",
       "mean   100.151220   23.906634     257.609756   5905.074780\n",
       "std     57.855902   14.472298     143.858843   5273.973902\n",
       "min      1.000000    0.000000       0.000000      0.000000\n",
       "25%     50.000000   12.560000     140.000000   1738.880000\n",
       "50%    100.000000   22.970000     262.000000   4631.880000\n",
       "75%    150.000000   35.700000     386.000000   8689.560000\n",
       "max    200.000000   49.510000     499.000000  23562.010000"
      ]
     },
     "execution_count": 16,
     "metadata": {},
     "output_type": "execute_result"
    }
   ],
   "source": [
    "df.describe()"
   ]
  },
  {
   "cell_type": "code",
   "execution_count": 17,
   "id": "6f7ceb51",
   "metadata": {},
   "outputs": [
    {
     "data": {
      "text/plain": [
       "52810.0"
      ]
     },
     "execution_count": 17,
     "metadata": {},
     "output_type": "execute_result"
    }
   ],
   "source": [
    "total_stock_quantity=df['StockQuantity'].sum()\n",
    "total_stock_quantity"
   ]
  },
  {
   "cell_type": "code",
   "execution_count": null,
   "id": "11c7f93a",
   "metadata": {},
   "outputs": [],
   "source": []
  },
  {
   "cell_type": "markdown",
   "id": "557dd1d9",
   "metadata": {},
   "source": [
    "### Part B: Data Storage with Postgresql"
   ]
  },
  {
   "cell_type": "code",
   "execution_count": null,
   "id": "ff11cbed",
   "metadata": {},
   "outputs": [],
   "source": []
  },
  {
   "cell_type": "markdown",
   "id": "fd3a4ddc",
   "metadata": {},
   "source": []
  },
  {
   "cell_type": "markdown",
   "id": "513e15c6",
   "metadata": {},
   "source": []
  },
  {
   "cell_type": "markdown",
   "id": "1162c792",
   "metadata": {},
   "source": []
  },
  {
   "cell_type": "code",
   "execution_count": 18,
   "id": "612bf579",
   "metadata": {},
   "outputs": [],
   "source": [
    "#Establishing a PostgreSQL connection using psycopg2"
   ]
  },
  {
   "cell_type": "code",
   "execution_count": 19,
   "id": "5998ef26",
   "metadata": {},
   "outputs": [
    {
     "name": "stdout",
     "output_type": "stream",
     "text": [
      "Requirement already satisfied: psycopg2-binary in c:\\users\\victoria ogunnaike\\anaconda3\\lib\\site-packages (2.9.10)\n",
      "Note: you may need to restart the kernel to use updated packages.\n"
     ]
    }
   ],
   "source": [
    "pip install psycopg2-binary\n"
   ]
  },
  {
   "cell_type": "code",
   "execution_count": 20,
   "id": "3afb10fc",
   "metadata": {},
   "outputs": [],
   "source": [
    "import psycopg2"
   ]
  },
  {
   "cell_type": "code",
   "execution_count": 29,
   "id": "9271d95f",
   "metadata": {},
   "outputs": [],
   "source": [
    "#to connect to postgres\n",
    "def get_db_connection():\n",
    "    connection = psycopg2.connect(\n",
    "        host = 'localhost',\n",
    "        database = '10Alytics_Freshmart',\n",
    "        user = 'postgres',\n",
    "        password = '',\n",
    "        port = '5432'\n",
    "    )\n",
    "    return connection"
   ]
  },
  {
   "cell_type": "code",
   "execution_count": 30,
   "id": "8bcf7a47",
   "metadata": {},
   "outputs": [
    {
     "data": {
      "text/plain": [
       "Index(['ProductID', 'ProductName', 'Category', 'Price', 'StockQuantity',\n",
       "       'StockValue'],\n",
       "      dtype='object')"
      ]
     },
     "execution_count": 30,
     "metadata": {},
     "output_type": "execute_result"
    }
   ],
   "source": [
    "df_columns = df.columns\n",
    "df_columns"
   ]
  },
  {
   "cell_type": "code",
   "execution_count": 23,
   "id": "bcb4fcc3",
   "metadata": {},
   "outputs": [
    {
     "name": "stdout",
     "output_type": "stream",
     "text": [
      "<class 'pandas.core.frame.DataFrame'>\n",
      "RangeIndex: 205 entries, 0 to 204\n",
      "Data columns (total 6 columns):\n",
      " #   Column         Non-Null Count  Dtype  \n",
      "---  ------         --------------  -----  \n",
      " 0   ProductID      205 non-null    int64  \n",
      " 1   ProductName    205 non-null    object \n",
      " 2   Category       205 non-null    object \n",
      " 3   Price          205 non-null    float64\n",
      " 4   StockQuantity  205 non-null    float64\n",
      " 5   StockValue     205 non-null    float64\n",
      "dtypes: float64(3), int64(1), object(2)\n",
      "memory usage: 9.7+ KB\n"
     ]
    }
   ],
   "source": [
    "df.info()"
   ]
  },
  {
   "cell_type": "code",
   "execution_count": null,
   "id": "609e433b",
   "metadata": {},
   "outputs": [],
   "source": []
  },
  {
   "cell_type": "code",
   "execution_count": null,
   "id": "4eecc3bf",
   "metadata": {},
   "outputs": [],
   "source": []
  },
  {
   "cell_type": "code",
   "execution_count": 31,
   "id": "c7bfd470",
   "metadata": {},
   "outputs": [],
   "source": [
    "#create table in sql\n",
    "def create_table():\n",
    "    conn = get_db_connection()\n",
    "    cursor = conn.cursor()\n",
    "    print(\"Connection to database established successfully\")\n",
    "    create_table_query = \"\"\"\n",
    "                            CREATE SCHEMA IF NOT EXISTS freshmart;\n",
    "                            \n",
    "                            DROP TABLE IF EXISTS freshmarT.customers;\n",
    "                            \n",
    "                            CREATE TABLE IF NOT EXISTS freshmart.products (\n",
    "                                ProductID INTEGER PRIMARY KEY,\n",
    "                                ProductName TEXT,\n",
    "                                Category TEXT,\n",
    "                                Price FLOAT,\n",
    "                                StockQuantity INTEGER,\n",
    "                                StockValue FLOAT\n",
    "                            );\n",
    "                         \"\"\"\n",
    "    cursor.execute(create_table_query)\n",
    "    conn.commit()\n",
    "    cursor.close()\n",
    "    print(\"Table creted successfully\")"
   ]
  },
  {
   "cell_type": "code",
   "execution_count": 32,
   "id": "d5da075e",
   "metadata": {},
   "outputs": [
    {
     "name": "stdout",
     "output_type": "stream",
     "text": [
      "Connection to database established successfully\n",
      "Table creted successfully\n"
     ]
    }
   ],
   "source": [
    "create_table()"
   ]
  },
  {
   "cell_type": "code",
   "execution_count": 35,
   "id": "46ad7ed9",
   "metadata": {},
   "outputs": [],
   "source": [
    "#create table in sql\n",
    "def create_table1():\n",
    "    conn = get_db_connection()\n",
    "    cursor = conn.cursor()\n",
    "    print(\"Connection to database established successfully\")\n",
    "    create_table_query = \"\"\"\n",
    "                            CREATE SCHEMA IF NOT EXISTS freshmart;\n",
    "                            \n",
    "                            DROP TABLE IF EXISTS freshmart.products1;\n",
    "                            \n",
    "                            CREATE TABLE IF NOT EXISTS freshmart.products1 (\n",
    "                                ProductID SERIAL PRIMARY KEY,\n",
    "                                ProductName TEXT,\n",
    "                                Category TEXT,\n",
    "                                Price FLOAT,\n",
    "                                StockQuantity INTEGER\n",
    "                            );\n",
    "                         \"\"\"\n",
    "    cursor.execute(create_table_query)\n",
    "    conn.commit()\n",
    "    cursor.close()\n",
    "    print(\"Table created successfully\")"
   ]
  },
  {
   "cell_type": "code",
   "execution_count": 36,
   "id": "be50a370",
   "metadata": {},
   "outputs": [
    {
     "name": "stdout",
     "output_type": "stream",
     "text": [
      "Connection to database established successfully\n",
      "Table created successfully\n"
     ]
    }
   ],
   "source": [
    "create_table1()"
   ]
  },
  {
   "cell_type": "code",
   "execution_count": 45,
   "id": "38c0d0b4",
   "metadata": {},
   "outputs": [
    {
     "data": {
      "text/html": [
       "<div>\n",
       "<style scoped>\n",
       "    .dataframe tbody tr th:only-of-type {\n",
       "        vertical-align: middle;\n",
       "    }\n",
       "\n",
       "    .dataframe tbody tr th {\n",
       "        vertical-align: top;\n",
       "    }\n",
       "\n",
       "    .dataframe thead th {\n",
       "        text-align: right;\n",
       "    }\n",
       "</style>\n",
       "<table border=\"1\" class=\"dataframe\">\n",
       "  <thead>\n",
       "    <tr style=\"text-align: right;\">\n",
       "      <th></th>\n",
       "      <th>ProductID</th>\n",
       "      <th>ProductName</th>\n",
       "      <th>Category</th>\n",
       "      <th>Price</th>\n",
       "      <th>StockQuantity</th>\n",
       "      <th>StockValue</th>\n",
       "    </tr>\n",
       "  </thead>\n",
       "  <tbody>\n",
       "    <tr>\n",
       "      <th>0</th>\n",
       "      <td>1</td>\n",
       "      <td>Milk 1</td>\n",
       "      <td>Dairy</td>\n",
       "      <td>19.35</td>\n",
       "      <td>358.0</td>\n",
       "      <td>6927.30</td>\n",
       "    </tr>\n",
       "    <tr>\n",
       "      <th>1</th>\n",
       "      <td>2</td>\n",
       "      <td>Cola 2</td>\n",
       "      <td>Beverages</td>\n",
       "      <td>9.99</td>\n",
       "      <td>81.0</td>\n",
       "      <td>809.19</td>\n",
       "    </tr>\n",
       "    <tr>\n",
       "      <th>2</th>\n",
       "      <td>3</td>\n",
       "      <td>Banana 3</td>\n",
       "      <td>Produce</td>\n",
       "      <td>30.33</td>\n",
       "      <td>112.0</td>\n",
       "      <td>3396.96</td>\n",
       "    </tr>\n",
       "    <tr>\n",
       "      <th>3</th>\n",
       "      <td>4</td>\n",
       "      <td>Cream 4</td>\n",
       "      <td>Dairy</td>\n",
       "      <td>22.85</td>\n",
       "      <td>224.0</td>\n",
       "      <td>5118.40</td>\n",
       "    </tr>\n",
       "    <tr>\n",
       "      <th>4</th>\n",
       "      <td>5</td>\n",
       "      <td>Cream 5</td>\n",
       "      <td>Dairy</td>\n",
       "      <td>3.85</td>\n",
       "      <td>97.0</td>\n",
       "      <td>373.45</td>\n",
       "    </tr>\n",
       "    <tr>\n",
       "      <th>...</th>\n",
       "      <td>...</td>\n",
       "      <td>...</td>\n",
       "      <td>...</td>\n",
       "      <td>...</td>\n",
       "      <td>...</td>\n",
       "      <td>...</td>\n",
       "    </tr>\n",
       "    <tr>\n",
       "      <th>200</th>\n",
       "      <td>96</td>\n",
       "      <td>Apple 96</td>\n",
       "      <td>Produce</td>\n",
       "      <td>3.52</td>\n",
       "      <td>494.0</td>\n",
       "      <td>1738.88</td>\n",
       "    </tr>\n",
       "    <tr>\n",
       "      <th>201</th>\n",
       "      <td>16</td>\n",
       "      <td>Coffee 16</td>\n",
       "      <td>Beverages</td>\n",
       "      <td>18.95</td>\n",
       "      <td>199.0</td>\n",
       "      <td>3771.05</td>\n",
       "    </tr>\n",
       "    <tr>\n",
       "      <th>202</th>\n",
       "      <td>31</td>\n",
       "      <td>Apple 31</td>\n",
       "      <td>Produce</td>\n",
       "      <td>21.83</td>\n",
       "      <td>63.0</td>\n",
       "      <td>1375.29</td>\n",
       "    </tr>\n",
       "    <tr>\n",
       "      <th>203</th>\n",
       "      <td>159</td>\n",
       "      <td>Tea 159</td>\n",
       "      <td>Beverages</td>\n",
       "      <td>19.14</td>\n",
       "      <td>242.0</td>\n",
       "      <td>4631.88</td>\n",
       "    </tr>\n",
       "    <tr>\n",
       "      <th>204</th>\n",
       "      <td>129</td>\n",
       "      <td>Muffin 129</td>\n",
       "      <td>Bakery</td>\n",
       "      <td>42.96</td>\n",
       "      <td>63.0</td>\n",
       "      <td>2706.48</td>\n",
       "    </tr>\n",
       "  </tbody>\n",
       "</table>\n",
       "<p>205 rows × 6 columns</p>\n",
       "</div>"
      ],
      "text/plain": [
       "     ProductID ProductName   Category  Price  StockQuantity  StockValue\n",
       "0            1      Milk 1      Dairy  19.35          358.0     6927.30\n",
       "1            2      Cola 2  Beverages   9.99           81.0      809.19\n",
       "2            3    Banana 3    Produce  30.33          112.0     3396.96\n",
       "3            4     Cream 4      Dairy  22.85          224.0     5118.40\n",
       "4            5     Cream 5      Dairy   3.85           97.0      373.45\n",
       "..         ...         ...        ...    ...            ...         ...\n",
       "200         96    Apple 96    Produce   3.52          494.0     1738.88\n",
       "201         16   Coffee 16  Beverages  18.95          199.0     3771.05\n",
       "202         31    Apple 31    Produce  21.83           63.0     1375.29\n",
       "203        159     Tea 159  Beverages  19.14          242.0     4631.88\n",
       "204        129  Muffin 129     Bakery  42.96           63.0     2706.48\n",
       "\n",
       "[205 rows x 6 columns]"
      ]
     },
     "execution_count": 45,
     "metadata": {},
     "output_type": "execute_result"
    }
   ],
   "source": [
    "df1=df.iloc[0:]\n",
    "df1"
   ]
  },
  {
   "cell_type": "code",
   "execution_count": 64,
   "id": "d1ab7ce2",
   "metadata": {},
   "outputs": [],
   "source": [
    "def load_data():\n",
    "    conn = get_db_connection()\n",
    "    cursor = conn.cursor()\n",
    "    print(\"Connection to database established successfully\")\n",
    "    for _, row in df.iterrows():\n",
    "        cursor.execute(\"\"\"\n",
    "                        INSERT INTO freshmart.products (ProductID, ProductName, Category, Price, StockQuantity)\n",
    "                        VALUES (%s, %s, %s, %s, %s);\n",
    "                    \"\"\", (row[\"ProductID\"], row[\"ProductName\"], row[\"Category\"], row[\"Price\"], row[\"StockQuantity\"]))\n",
    "    conn.commit()\n",
    "    cursor.close()\n",
    "    print(\"Table created successfully\")"
   ]
  },
  {
   "cell_type": "code",
   "execution_count": 65,
   "id": "974748c1",
   "metadata": {},
   "outputs": [
    {
     "name": "stdout",
     "output_type": "stream",
     "text": [
      "Connection to database established successfully\n"
     ]
    },
    {
     "ename": "TypeError",
     "evalue": "tuple indices must be integers or slices, not str",
     "output_type": "error",
     "traceback": [
      "\u001b[1;31m---------------------------------------------------------------------------\u001b[0m",
      "\u001b[1;31mTypeError\u001b[0m                                 Traceback (most recent call last)",
      "\u001b[1;32m~\\AppData\\Local\\Temp\\ipykernel_58956\\3753234707.py\u001b[0m in \u001b[0;36m<module>\u001b[1;34m\u001b[0m\n\u001b[1;32m----> 1\u001b[1;33m \u001b[0mload_data\u001b[0m\u001b[1;33m(\u001b[0m\u001b[1;33m)\u001b[0m\u001b[1;33m\u001b[0m\u001b[1;33m\u001b[0m\u001b[0m\n\u001b[0m",
      "\u001b[1;32m~\\AppData\\Local\\Temp\\ipykernel_58956\\3645602612.py\u001b[0m in \u001b[0;36mload_data\u001b[1;34m()\u001b[0m\n\u001b[0;32m      7\u001b[0m                         \u001b[0mINSERT\u001b[0m \u001b[0mINTO\u001b[0m \u001b[0mfreshmart\u001b[0m\u001b[1;33m.\u001b[0m\u001b[0mproducts\u001b[0m \u001b[1;33m(\u001b[0m\u001b[0mProductID\u001b[0m\u001b[1;33m,\u001b[0m \u001b[0mProductName\u001b[0m\u001b[1;33m,\u001b[0m \u001b[0mCategory\u001b[0m\u001b[1;33m,\u001b[0m \u001b[0mPrice\u001b[0m\u001b[1;33m,\u001b[0m \u001b[0mStockQuantity\u001b[0m\u001b[1;33m)\u001b[0m\u001b[1;33m\u001b[0m\u001b[1;33m\u001b[0m\u001b[0m\n\u001b[0;32m      8\u001b[0m                         \u001b[0mVALUES\u001b[0m \u001b[1;33m(\u001b[0m\u001b[1;33m%\u001b[0m\u001b[0ms\u001b[0m\u001b[1;33m,\u001b[0m \u001b[1;33m%\u001b[0m\u001b[0ms\u001b[0m\u001b[1;33m,\u001b[0m \u001b[1;33m%\u001b[0m\u001b[0ms\u001b[0m\u001b[1;33m,\u001b[0m \u001b[1;33m%\u001b[0m\u001b[0ms\u001b[0m\u001b[1;33m,\u001b[0m \u001b[1;33m%\u001b[0m\u001b[0ms\u001b[0m\u001b[1;33m)\u001b[0m\u001b[1;33m;\u001b[0m\u001b[1;33m\u001b[0m\u001b[1;33m\u001b[0m\u001b[0m\n\u001b[1;32m----> 9\u001b[1;33m                     \"\"\", (row[\"ProductID\"], row[\"ProductName\"], row[\"Category\"], row[\"Price\"], row[\"StockQuantity\"]))\n\u001b[0m\u001b[0;32m     10\u001b[0m     \u001b[0mconn\u001b[0m\u001b[1;33m.\u001b[0m\u001b[0mcommit\u001b[0m\u001b[1;33m(\u001b[0m\u001b[1;33m)\u001b[0m\u001b[1;33m\u001b[0m\u001b[1;33m\u001b[0m\u001b[0m\n\u001b[0;32m     11\u001b[0m     \u001b[0mcursor\u001b[0m\u001b[1;33m.\u001b[0m\u001b[0mclose\u001b[0m\u001b[1;33m(\u001b[0m\u001b[1;33m)\u001b[0m\u001b[1;33m\u001b[0m\u001b[1;33m\u001b[0m\u001b[0m\n",
      "\u001b[1;31mTypeError\u001b[0m: tuple indices must be integers or slices, not str"
     ]
    }
   ],
   "source": [
    "load_data()"
   ]
  },
  {
   "cell_type": "code",
   "execution_count": 50,
   "id": "fb08b94c",
   "metadata": {},
   "outputs": [
    {
     "data": {
      "text/plain": [
       "<generator object DataFrame.iterrows at 0x000002199CD096D0>"
      ]
     },
     "execution_count": 50,
     "metadata": {},
     "output_type": "execute_result"
    }
   ],
   "source": [
    "df.iterrows()"
   ]
  },
  {
   "cell_type": "code",
   "execution_count": 51,
   "id": "94ee9079",
   "metadata": {},
   "outputs": [
    {
     "name": "stdout",
     "output_type": "stream",
     "text": [
      "<class 'pandas.core.frame.DataFrame'>\n",
      "RangeIndex: 205 entries, 0 to 204\n",
      "Data columns (total 6 columns):\n",
      " #   Column         Non-Null Count  Dtype  \n",
      "---  ------         --------------  -----  \n",
      " 0   ProductID      205 non-null    int64  \n",
      " 1   ProductName    205 non-null    object \n",
      " 2   Category       205 non-null    object \n",
      " 3   Price          205 non-null    float64\n",
      " 4   StockQuantity  205 non-null    float64\n",
      " 5   StockValue     205 non-null    float64\n",
      "dtypes: float64(3), int64(1), object(2)\n",
      "memory usage: 9.7+ KB\n"
     ]
    }
   ],
   "source": [
    "df.info()"
   ]
  },
  {
   "cell_type": "code",
   "execution_count": 53,
   "id": "79bc96b0",
   "metadata": {},
   "outputs": [],
   "source": [
    "df['StockQuantity']=df['StockQuantity'].astype(int)"
   ]
  },
  {
   "cell_type": "code",
   "execution_count": 54,
   "id": "15a6440a",
   "metadata": {},
   "outputs": [
    {
     "name": "stdout",
     "output_type": "stream",
     "text": [
      "<class 'pandas.core.frame.DataFrame'>\n",
      "RangeIndex: 205 entries, 0 to 204\n",
      "Data columns (total 6 columns):\n",
      " #   Column         Non-Null Count  Dtype  \n",
      "---  ------         --------------  -----  \n",
      " 0   ProductID      205 non-null    int64  \n",
      " 1   ProductName    205 non-null    object \n",
      " 2   Category       205 non-null    object \n",
      " 3   Price          205 non-null    float64\n",
      " 4   StockQuantity  205 non-null    int32  \n",
      " 5   StockValue     205 non-null    float64\n",
      "dtypes: float64(2), int32(1), int64(1), object(2)\n",
      "memory usage: 8.9+ KB\n"
     ]
    }
   ],
   "source": [
    "df.info()"
   ]
  },
  {
   "cell_type": "code",
   "execution_count": null,
   "id": "4da57266",
   "metadata": {},
   "outputs": [],
   "source": [
    "df1=df[['ProductID','ProductName','']]"
   ]
  },
  {
   "cell_type": "code",
   "execution_count": null,
   "id": "114f5963",
   "metadata": {},
   "outputs": [],
   "source": []
  },
  {
   "cell_type": "code",
   "execution_count": 74,
   "id": "17d77723",
   "metadata": {},
   "outputs": [
    {
     "ename": "UniqueViolation",
     "evalue": "duplicate key value violates unique constraint \"products1_pkey\"\nDETAIL:  Key (productid)=(96) already exists.\n",
     "output_type": "error",
     "traceback": [
      "\u001b[1;31m---------------------------------------------------------------------------\u001b[0m",
      "\u001b[1;31mUniqueViolation\u001b[0m                           Traceback (most recent call last)",
      "\u001b[1;32m~\\AppData\\Local\\Temp\\ipykernel_58956\\580105354.py\u001b[0m in \u001b[0;36m<module>\u001b[1;34m\u001b[0m\n\u001b[0;32m      2\u001b[0m \u001b[0mcursor\u001b[0m \u001b[1;33m=\u001b[0m \u001b[0mconn\u001b[0m\u001b[1;33m.\u001b[0m\u001b[0mcursor\u001b[0m\u001b[1;33m(\u001b[0m\u001b[1;33m)\u001b[0m\u001b[1;33m\u001b[0m\u001b[1;33m\u001b[0m\u001b[0m\n\u001b[0;32m      3\u001b[0m \u001b[1;32mfor\u001b[0m \u001b[0mindex\u001b[0m\u001b[1;33m,\u001b[0m \u001b[0mrow\u001b[0m \u001b[1;32min\u001b[0m \u001b[0mdf\u001b[0m\u001b[1;33m.\u001b[0m\u001b[0miterrows\u001b[0m\u001b[1;33m(\u001b[0m\u001b[1;33m)\u001b[0m\u001b[1;33m:\u001b[0m\u001b[1;33m\u001b[0m\u001b[1;33m\u001b[0m\u001b[0m\n\u001b[1;32m----> 4\u001b[1;33m     cursor.execute(\"\"\"INSERT INTO freshmart.products1 (ProductID, ProductName, Category, Price, StockQuantity)\n\u001b[0m\u001b[0;32m      5\u001b[0m                    VALUES (%s, %s, %s, %s, %s);\"\"\", (row['ProductID'], row['ProductName'], row['Category'], row['Price'], row['StockQuantity']))\n\u001b[0;32m      6\u001b[0m \u001b[1;33m\u001b[0m\u001b[0m\n",
      "\u001b[1;31mUniqueViolation\u001b[0m: duplicate key value violates unique constraint \"products1_pkey\"\nDETAIL:  Key (productid)=(96) already exists.\n"
     ]
    }
   ],
   "source": [
    "conn = get_db_connection()\n",
    "cursor = conn.cursor()\n",
    "for index, row in df.iterrows():\n",
    "    cursor.execute(\"\"\"INSERT INTO freshmart.products1 (ProductID, ProductName, Category, Price, StockQuantity)\n",
    "                   VALUES (%s, %s, %s, %s, %s);\"\"\", (row['ProductID'], row['ProductName'], row['Category'], row['Price'], row['StockQuantity']))\n",
    "\n",
    "# Commit the changes and close the connection\n",
    "conn.commit()\n",
    "conn.close()"
   ]
  },
  {
   "cell_type": "code",
   "execution_count": 75,
   "id": "941b7914",
   "metadata": {},
   "outputs": [],
   "source": [
    "#at the point of insertion, i realized there were duplicate records"
   ]
  },
  {
   "cell_type": "code",
   "execution_count": 85,
   "id": "8e09d949",
   "metadata": {},
   "outputs": [
    {
     "data": {
      "text/plain": [
       "0      False\n",
       "1      False\n",
       "2      False\n",
       "3      False\n",
       "4      False\n",
       "       ...  \n",
       "200     True\n",
       "201     True\n",
       "202    False\n",
       "203     True\n",
       "204     True\n",
       "Length: 205, dtype: bool"
      ]
     },
     "execution_count": 85,
     "metadata": {},
     "output_type": "execute_result"
    }
   ],
   "source": [
    "df.duplicated()"
   ]
  },
  {
   "cell_type": "code",
   "execution_count": 84,
   "id": "934ecc32",
   "metadata": {},
   "outputs": [
    {
     "data": {
      "text/plain": [
       "4"
      ]
     },
     "execution_count": 84,
     "metadata": {},
     "output_type": "execute_result"
    }
   ],
   "source": [
    "df.duplicated().sum()"
   ]
  },
  {
   "cell_type": "code",
   "execution_count": 88,
   "id": "c7d79444",
   "metadata": {},
   "outputs": [],
   "source": [
    "df=df.drop_duplicates()"
   ]
  },
  {
   "cell_type": "code",
   "execution_count": 90,
   "id": "61acb25b",
   "metadata": {},
   "outputs": [
    {
     "data": {
      "text/plain": [
       "0"
      ]
     },
     "execution_count": 90,
     "metadata": {},
     "output_type": "execute_result"
    }
   ],
   "source": [
    "df.duplicated().sum()"
   ]
  },
  {
   "cell_type": "code",
   "execution_count": 93,
   "id": "ad3287ab",
   "metadata": {},
   "outputs": [
    {
     "data": {
      "text/plain": [
       "0      False\n",
       "1      False\n",
       "2      False\n",
       "3      False\n",
       "4      False\n",
       "       ...  \n",
       "196    False\n",
       "197    False\n",
       "198    False\n",
       "199    False\n",
       "202    False\n",
       "Length: 201, dtype: bool"
      ]
     },
     "execution_count": 93,
     "metadata": {},
     "output_type": "execute_result"
    }
   ],
   "source": [
    "df.duplicated()"
   ]
  },
  {
   "cell_type": "code",
   "execution_count": 91,
   "id": "3301557f",
   "metadata": {},
   "outputs": [
    {
     "ename": "UniqueViolation",
     "evalue": "duplicate key value violates unique constraint \"products1_pkey\"\nDETAIL:  Key (productid)=(31) already exists.\n",
     "output_type": "error",
     "traceback": [
      "\u001b[1;31m---------------------------------------------------------------------------\u001b[0m",
      "\u001b[1;31mUniqueViolation\u001b[0m                           Traceback (most recent call last)",
      "\u001b[1;32m~\\AppData\\Local\\Temp\\ipykernel_58956\\580105354.py\u001b[0m in \u001b[0;36m<module>\u001b[1;34m\u001b[0m\n\u001b[0;32m      2\u001b[0m \u001b[0mcursor\u001b[0m \u001b[1;33m=\u001b[0m \u001b[0mconn\u001b[0m\u001b[1;33m.\u001b[0m\u001b[0mcursor\u001b[0m\u001b[1;33m(\u001b[0m\u001b[1;33m)\u001b[0m\u001b[1;33m\u001b[0m\u001b[1;33m\u001b[0m\u001b[0m\n\u001b[0;32m      3\u001b[0m \u001b[1;32mfor\u001b[0m \u001b[0mindex\u001b[0m\u001b[1;33m,\u001b[0m \u001b[0mrow\u001b[0m \u001b[1;32min\u001b[0m \u001b[0mdf\u001b[0m\u001b[1;33m.\u001b[0m\u001b[0miterrows\u001b[0m\u001b[1;33m(\u001b[0m\u001b[1;33m)\u001b[0m\u001b[1;33m:\u001b[0m\u001b[1;33m\u001b[0m\u001b[1;33m\u001b[0m\u001b[0m\n\u001b[1;32m----> 4\u001b[1;33m     cursor.execute(\"\"\"INSERT INTO freshmart.products1 (ProductID, ProductName, Category, Price, StockQuantity)\n\u001b[0m\u001b[0;32m      5\u001b[0m                    VALUES (%s, %s, %s, %s, %s);\"\"\", (row['ProductID'], row['ProductName'], row['Category'], row['Price'], row['StockQuantity']))\n\u001b[0;32m      6\u001b[0m \u001b[1;33m\u001b[0m\u001b[0m\n",
      "\u001b[1;31mUniqueViolation\u001b[0m: duplicate key value violates unique constraint \"products1_pkey\"\nDETAIL:  Key (productid)=(31) already exists.\n"
     ]
    }
   ],
   "source": [
    "conn = get_db_connection()\n",
    "cursor = conn.cursor()\n",
    "for index, row in df.iterrows():\n",
    "    cursor.execute(\"\"\"INSERT INTO freshmart.products1 (ProductID, ProductName, Category, Price, StockQuantity)\n",
    "                   VALUES (%s, %s, %s, %s, %s);\"\"\", (row['ProductID'], row['ProductName'], row['Category'], row['Price'], row['StockQuantity']))\n",
    "\n",
    "# Commit the changes and close the connection\n",
    "conn.commit()\n",
    "conn.close()"
   ]
  },
  {
   "cell_type": "code",
   "execution_count": 97,
   "id": "aaa75479",
   "metadata": {},
   "outputs": [
    {
     "data": {
      "text/plain": [
       "0      False\n",
       "1      False\n",
       "2      False\n",
       "3      False\n",
       "4      False\n",
       "       ...  \n",
       "196    False\n",
       "197    False\n",
       "198    False\n",
       "199    False\n",
       "202     True\n",
       "Length: 201, dtype: bool"
      ]
     },
     "execution_count": 97,
     "metadata": {},
     "output_type": "execute_result"
    }
   ],
   "source": [
    "df.duplicated('ProductID')"
   ]
  },
  {
   "cell_type": "code",
   "execution_count": 98,
   "id": "fa304ae1",
   "metadata": {},
   "outputs": [
    {
     "data": {
      "text/html": [
       "<div>\n",
       "<style scoped>\n",
       "    .dataframe tbody tr th:only-of-type {\n",
       "        vertical-align: middle;\n",
       "    }\n",
       "\n",
       "    .dataframe tbody tr th {\n",
       "        vertical-align: top;\n",
       "    }\n",
       "\n",
       "    .dataframe thead th {\n",
       "        text-align: right;\n",
       "    }\n",
       "</style>\n",
       "<table border=\"1\" class=\"dataframe\">\n",
       "  <thead>\n",
       "    <tr style=\"text-align: right;\">\n",
       "      <th></th>\n",
       "      <th>ProductID</th>\n",
       "      <th>ProductName</th>\n",
       "      <th>Category</th>\n",
       "      <th>Price</th>\n",
       "      <th>StockQuantity</th>\n",
       "      <th>StockValue</th>\n",
       "    </tr>\n",
       "  </thead>\n",
       "  <tbody>\n",
       "    <tr>\n",
       "      <th>202</th>\n",
       "      <td>31</td>\n",
       "      <td>Apple 31</td>\n",
       "      <td>Produce</td>\n",
       "      <td>21.83</td>\n",
       "      <td>63</td>\n",
       "      <td>1375.29</td>\n",
       "    </tr>\n",
       "  </tbody>\n",
       "</table>\n",
       "</div>"
      ],
      "text/plain": [
       "     ProductID ProductName Category  Price  StockQuantity  StockValue\n",
       "202         31    Apple 31  Produce  21.83             63     1375.29"
      ]
     },
     "execution_count": 98,
     "metadata": {},
     "output_type": "execute_result"
    }
   ],
   "source": [
    "df[df.duplicated('ProductID')]"
   ]
  },
  {
   "cell_type": "code",
   "execution_count": 105,
   "id": "65e961ce",
   "metadata": {},
   "outputs": [
    {
     "data": {
      "text/html": [
       "<div>\n",
       "<style scoped>\n",
       "    .dataframe tbody tr th:only-of-type {\n",
       "        vertical-align: middle;\n",
       "    }\n",
       "\n",
       "    .dataframe tbody tr th {\n",
       "        vertical-align: top;\n",
       "    }\n",
       "\n",
       "    .dataframe thead th {\n",
       "        text-align: right;\n",
       "    }\n",
       "</style>\n",
       "<table border=\"1\" class=\"dataframe\">\n",
       "  <thead>\n",
       "    <tr style=\"text-align: right;\">\n",
       "      <th></th>\n",
       "      <th>ProductID</th>\n",
       "      <th>ProductName</th>\n",
       "      <th>Category</th>\n",
       "      <th>Price</th>\n",
       "      <th>StockQuantity</th>\n",
       "      <th>StockValue</th>\n",
       "    </tr>\n",
       "  </thead>\n",
       "  <tbody>\n",
       "    <tr>\n",
       "      <th>30</th>\n",
       "      <td>31</td>\n",
       "      <td>Apple 31</td>\n",
       "      <td>snakcs</td>\n",
       "      <td>21.83</td>\n",
       "      <td>63</td>\n",
       "      <td>1375.29</td>\n",
       "    </tr>\n",
       "    <tr>\n",
       "      <th>202</th>\n",
       "      <td>31</td>\n",
       "      <td>Apple 31</td>\n",
       "      <td>Produce</td>\n",
       "      <td>21.83</td>\n",
       "      <td>63</td>\n",
       "      <td>1375.29</td>\n",
       "    </tr>\n",
       "  </tbody>\n",
       "</table>\n",
       "</div>"
      ],
      "text/plain": [
       "     ProductID ProductName Category  Price  StockQuantity  StockValue\n",
       "30          31    Apple 31   snakcs  21.83             63     1375.29\n",
       "202         31    Apple 31  Produce  21.83             63     1375.29"
      ]
     },
     "execution_count": 105,
     "metadata": {},
     "output_type": "execute_result"
    }
   ],
   "source": [
    "df[df['ProductID']==31]"
   ]
  },
  {
   "cell_type": "code",
   "execution_count": null,
   "id": "10479004",
   "metadata": {},
   "outputs": [],
   "source": [
    "df[(df['ProductID']==31) & (df['Category']=='snakcs')]"
   ]
  },
  {
   "cell_type": "code",
   "execution_count": 107,
   "id": "bd4a34f8",
   "metadata": {},
   "outputs": [],
   "source": [
    "df=df.drop(df[(df['ProductID']==31) & (df['Category']=='snakcs')].index)"
   ]
  },
  {
   "cell_type": "code",
   "execution_count": 110,
   "id": "ba5af06b",
   "metadata": {},
   "outputs": [
    {
     "data": {
      "text/html": [
       "<div>\n",
       "<style scoped>\n",
       "    .dataframe tbody tr th:only-of-type {\n",
       "        vertical-align: middle;\n",
       "    }\n",
       "\n",
       "    .dataframe tbody tr th {\n",
       "        vertical-align: top;\n",
       "    }\n",
       "\n",
       "    .dataframe thead th {\n",
       "        text-align: right;\n",
       "    }\n",
       "</style>\n",
       "<table border=\"1\" class=\"dataframe\">\n",
       "  <thead>\n",
       "    <tr style=\"text-align: right;\">\n",
       "      <th></th>\n",
       "      <th>ProductID</th>\n",
       "      <th>ProductName</th>\n",
       "      <th>Category</th>\n",
       "      <th>Price</th>\n",
       "      <th>StockQuantity</th>\n",
       "      <th>StockValue</th>\n",
       "    </tr>\n",
       "  </thead>\n",
       "  <tbody>\n",
       "    <tr>\n",
       "      <th>202</th>\n",
       "      <td>31</td>\n",
       "      <td>Apple 31</td>\n",
       "      <td>Produce</td>\n",
       "      <td>21.83</td>\n",
       "      <td>63</td>\n",
       "      <td>1375.29</td>\n",
       "    </tr>\n",
       "  </tbody>\n",
       "</table>\n",
       "</div>"
      ],
      "text/plain": [
       "     ProductID ProductName Category  Price  StockQuantity  StockValue\n",
       "202         31    Apple 31  Produce  21.83             63     1375.29"
      ]
     },
     "execution_count": 110,
     "metadata": {},
     "output_type": "execute_result"
    }
   ],
   "source": [
    "df[df['ProductID']==31]"
   ]
  },
  {
   "cell_type": "code",
   "execution_count": 111,
   "id": "b7cd7797",
   "metadata": {},
   "outputs": [],
   "source": [
    "conn = get_db_connection()\n",
    "cursor = conn.cursor()\n",
    "for index, row in df.iterrows():\n",
    "    cursor.execute(\"\"\"INSERT INTO freshmart.products1 (ProductID, ProductName, Category, Price, StockQuantity)\n",
    "                   VALUES (%s, %s, %s, %s, %s);\"\"\", (row['ProductID'], row['ProductName'], row['Category'], row['Price'], row['StockQuantity']))\n",
    "\n",
    "# Commit the changes and close the connection\n",
    "conn.commit()\n",
    "conn.close()"
   ]
  },
  {
   "cell_type": "code",
   "execution_count": null,
   "id": "1d54e8e6",
   "metadata": {},
   "outputs": [],
   "source": []
  },
  {
   "cell_type": "code",
   "execution_count": null,
   "id": "9c5bcb1e",
   "metadata": {},
   "outputs": [],
   "source": []
  },
  {
   "cell_type": "markdown",
   "id": "21d88f07",
   "metadata": {},
   "source": [
    "### Query the database"
   ]
  },
  {
   "cell_type": "code",
   "execution_count": 119,
   "id": "793232de",
   "metadata": {},
   "outputs": [],
   "source": [
    "conn = get_db_connection()\n",
    "cursor = conn.cursor()\n",
    "query = \"\"\"\n",
    "        SELECT *\n",
    "        FROM freshmart.products1\n",
    "        WHERE UPPER(category)='DAIRY'\n",
    "\"\"\"\n",
    "# Commit the changes and close the connection\n",
    "cursor.execute(query)\n",
    "df4_1 = cursor.fetchall\n",
    "conn.commit()\n",
    "conn.close()"
   ]
  },
  {
   "cell_type": "code",
   "execution_count": null,
   "id": "caf7f4dd",
   "metadata": {},
   "outputs": [],
   "source": []
  },
  {
   "cell_type": "code",
   "execution_count": 124,
   "id": "f07b25f8",
   "metadata": {},
   "outputs": [
    {
     "name": "stderr",
     "output_type": "stream",
     "text": [
      "C:\\Users\\Victoria Ogunnaike\\anaconda3\\lib\\site-packages\\pandas\\io\\sql.py:762: UserWarning: pandas only support SQLAlchemy connectable(engine/connection) ordatabase string URI or sqlite3 DBAPI2 connectionother DBAPI2 objects are not tested, please consider using SQLAlchemy\n",
      "  warnings.warn(\n"
     ]
    },
    {
     "data": {
      "text/html": [
       "<div>\n",
       "<style scoped>\n",
       "    .dataframe tbody tr th:only-of-type {\n",
       "        vertical-align: middle;\n",
       "    }\n",
       "\n",
       "    .dataframe tbody tr th {\n",
       "        vertical-align: top;\n",
       "    }\n",
       "\n",
       "    .dataframe thead th {\n",
       "        text-align: right;\n",
       "    }\n",
       "</style>\n",
       "<table border=\"1\" class=\"dataframe\">\n",
       "  <thead>\n",
       "    <tr style=\"text-align: right;\">\n",
       "      <th></th>\n",
       "      <th>productid</th>\n",
       "      <th>productname</th>\n",
       "      <th>category</th>\n",
       "      <th>price</th>\n",
       "      <th>stockquantity</th>\n",
       "    </tr>\n",
       "  </thead>\n",
       "  <tbody>\n",
       "    <tr>\n",
       "      <th>0</th>\n",
       "      <td>131</td>\n",
       "      <td>Cheese 131</td>\n",
       "      <td>Dairy</td>\n",
       "      <td>42.70</td>\n",
       "      <td>122</td>\n",
       "    </tr>\n",
       "    <tr>\n",
       "      <th>1</th>\n",
       "      <td>140</td>\n",
       "      <td>Yogurt 140</td>\n",
       "      <td>Dairy</td>\n",
       "      <td>1.89</td>\n",
       "      <td>407</td>\n",
       "    </tr>\n",
       "    <tr>\n",
       "      <th>2</th>\n",
       "      <td>141</td>\n",
       "      <td>Milk 141</td>\n",
       "      <td>Dairy</td>\n",
       "      <td>16.94</td>\n",
       "      <td>413</td>\n",
       "    </tr>\n",
       "    <tr>\n",
       "      <th>3</th>\n",
       "      <td>149</td>\n",
       "      <td>Cream 149</td>\n",
       "      <td>Dairy</td>\n",
       "      <td>44.71</td>\n",
       "      <td>292</td>\n",
       "    </tr>\n",
       "    <tr>\n",
       "      <th>4</th>\n",
       "      <td>1</td>\n",
       "      <td>Milk 1</td>\n",
       "      <td>Dairy</td>\n",
       "      <td>19.35</td>\n",
       "      <td>358</td>\n",
       "    </tr>\n",
       "    <tr>\n",
       "      <th>5</th>\n",
       "      <td>4</td>\n",
       "      <td>Cream 4</td>\n",
       "      <td>Dairy</td>\n",
       "      <td>22.85</td>\n",
       "      <td>224</td>\n",
       "    </tr>\n",
       "    <tr>\n",
       "      <th>6</th>\n",
       "      <td>5</td>\n",
       "      <td>Cream 5</td>\n",
       "      <td>Dairy</td>\n",
       "      <td>3.85</td>\n",
       "      <td>97</td>\n",
       "    </tr>\n",
       "    <tr>\n",
       "      <th>7</th>\n",
       "      <td>7</td>\n",
       "      <td>Milk 7</td>\n",
       "      <td>Dairy</td>\n",
       "      <td>35.70</td>\n",
       "      <td>0</td>\n",
       "    </tr>\n",
       "    <tr>\n",
       "      <th>8</th>\n",
       "      <td>10</td>\n",
       "      <td>Cream 10</td>\n",
       "      <td>Dairy</td>\n",
       "      <td>1.04</td>\n",
       "      <td>453</td>\n",
       "    </tr>\n",
       "    <tr>\n",
       "      <th>9</th>\n",
       "      <td>11</td>\n",
       "      <td>Tomato 11</td>\n",
       "      <td>dairy</td>\n",
       "      <td>9.99</td>\n",
       "      <td>469</td>\n",
       "    </tr>\n",
       "    <tr>\n",
       "      <th>10</th>\n",
       "      <td>19</td>\n",
       "      <td>Butter 19</td>\n",
       "      <td>Dairy</td>\n",
       "      <td>49.18</td>\n",
       "      <td>140</td>\n",
       "    </tr>\n",
       "    <tr>\n",
       "      <th>11</th>\n",
       "      <td>20</td>\n",
       "      <td>Yogurt 20</td>\n",
       "      <td>Dairy</td>\n",
       "      <td>43.14</td>\n",
       "      <td>144</td>\n",
       "    </tr>\n",
       "    <tr>\n",
       "      <th>12</th>\n",
       "      <td>24</td>\n",
       "      <td>Butter 24</td>\n",
       "      <td>Dairy</td>\n",
       "      <td>19.89</td>\n",
       "      <td>355</td>\n",
       "    </tr>\n",
       "    <tr>\n",
       "      <th>13</th>\n",
       "      <td>25</td>\n",
       "      <td>Cream 25</td>\n",
       "      <td>Dairy</td>\n",
       "      <td>5.79</td>\n",
       "      <td>349</td>\n",
       "    </tr>\n",
       "    <tr>\n",
       "      <th>14</th>\n",
       "      <td>29</td>\n",
       "      <td>Cheese 29</td>\n",
       "      <td>Dairy</td>\n",
       "      <td>20.16</td>\n",
       "      <td>59</td>\n",
       "    </tr>\n",
       "    <tr>\n",
       "      <th>15</th>\n",
       "      <td>58</td>\n",
       "      <td>Milk 58</td>\n",
       "      <td>Dairy</td>\n",
       "      <td>24.14</td>\n",
       "      <td>110</td>\n",
       "    </tr>\n",
       "    <tr>\n",
       "      <th>16</th>\n",
       "      <td>61</td>\n",
       "      <td>Butter 61</td>\n",
       "      <td>Dairy</td>\n",
       "      <td>12.56</td>\n",
       "      <td>407</td>\n",
       "    </tr>\n",
       "    <tr>\n",
       "      <th>17</th>\n",
       "      <td>65</td>\n",
       "      <td>Milk 65</td>\n",
       "      <td>Dairy</td>\n",
       "      <td>10.88</td>\n",
       "      <td>361</td>\n",
       "    </tr>\n",
       "    <tr>\n",
       "      <th>18</th>\n",
       "      <td>70</td>\n",
       "      <td>Yogurt 70</td>\n",
       "      <td>Dairy</td>\n",
       "      <td>38.02</td>\n",
       "      <td>45</td>\n",
       "    </tr>\n",
       "    <tr>\n",
       "      <th>19</th>\n",
       "      <td>80</td>\n",
       "      <td>Yogurt 80</td>\n",
       "      <td>Dairy</td>\n",
       "      <td>6.39</td>\n",
       "      <td>386</td>\n",
       "    </tr>\n",
       "    <tr>\n",
       "      <th>20</th>\n",
       "      <td>82</td>\n",
       "      <td>Cheese 82</td>\n",
       "      <td>Dairy</td>\n",
       "      <td>41.08</td>\n",
       "      <td>242</td>\n",
       "    </tr>\n",
       "    <tr>\n",
       "      <th>21</th>\n",
       "      <td>84</td>\n",
       "      <td>Butter 84</td>\n",
       "      <td>Dairy</td>\n",
       "      <td>26.03</td>\n",
       "      <td>146</td>\n",
       "    </tr>\n",
       "    <tr>\n",
       "      <th>22</th>\n",
       "      <td>85</td>\n",
       "      <td>Cream 85</td>\n",
       "      <td>Dairy</td>\n",
       "      <td>24.76</td>\n",
       "      <td>234</td>\n",
       "    </tr>\n",
       "    <tr>\n",
       "      <th>23</th>\n",
       "      <td>95</td>\n",
       "      <td>Cheese 95</td>\n",
       "      <td>Dairy</td>\n",
       "      <td>48.85</td>\n",
       "      <td>229</td>\n",
       "    </tr>\n",
       "    <tr>\n",
       "      <th>24</th>\n",
       "      <td>101</td>\n",
       "      <td>Milk 101</td>\n",
       "      <td>Dairy</td>\n",
       "      <td>30.04</td>\n",
       "      <td>448</td>\n",
       "    </tr>\n",
       "    <tr>\n",
       "      <th>25</th>\n",
       "      <td>103</td>\n",
       "      <td>Yogurt 103</td>\n",
       "      <td>Dairy</td>\n",
       "      <td>12.87</td>\n",
       "      <td>303</td>\n",
       "    </tr>\n",
       "    <tr>\n",
       "      <th>26</th>\n",
       "      <td>104</td>\n",
       "      <td>Cream 104</td>\n",
       "      <td>Dairy</td>\n",
       "      <td>19.02</td>\n",
       "      <td>381</td>\n",
       "    </tr>\n",
       "    <tr>\n",
       "      <th>27</th>\n",
       "      <td>112</td>\n",
       "      <td>Butter 112</td>\n",
       "      <td>Dairy</td>\n",
       "      <td>26.09</td>\n",
       "      <td>156</td>\n",
       "    </tr>\n",
       "    <tr>\n",
       "      <th>28</th>\n",
       "      <td>115</td>\n",
       "      <td>Milk 115</td>\n",
       "      <td>Dairy</td>\n",
       "      <td>20.48</td>\n",
       "      <td>48</td>\n",
       "    </tr>\n",
       "    <tr>\n",
       "      <th>29</th>\n",
       "      <td>116</td>\n",
       "      <td>Butter 116</td>\n",
       "      <td>Dairy</td>\n",
       "      <td>46.90</td>\n",
       "      <td>138</td>\n",
       "    </tr>\n",
       "    <tr>\n",
       "      <th>30</th>\n",
       "      <td>125</td>\n",
       "      <td>Milk 125</td>\n",
       "      <td>Dairy</td>\n",
       "      <td>28.36</td>\n",
       "      <td>169</td>\n",
       "    </tr>\n",
       "    <tr>\n",
       "      <th>31</th>\n",
       "      <td>127</td>\n",
       "      <td>Cheese 127</td>\n",
       "      <td>Dairy</td>\n",
       "      <td>14.66</td>\n",
       "      <td>156</td>\n",
       "    </tr>\n",
       "    <tr>\n",
       "      <th>32</th>\n",
       "      <td>161</td>\n",
       "      <td>Butter 161</td>\n",
       "      <td>Dairy</td>\n",
       "      <td>21.98</td>\n",
       "      <td>190</td>\n",
       "    </tr>\n",
       "    <tr>\n",
       "      <th>33</th>\n",
       "      <td>163</td>\n",
       "      <td>Milk 163</td>\n",
       "      <td>Dairy</td>\n",
       "      <td>42.80</td>\n",
       "      <td>200</td>\n",
       "    </tr>\n",
       "    <tr>\n",
       "      <th>34</th>\n",
       "      <td>167</td>\n",
       "      <td>Cheese 167</td>\n",
       "      <td>Dairy</td>\n",
       "      <td>28.28</td>\n",
       "      <td>232</td>\n",
       "    </tr>\n",
       "    <tr>\n",
       "      <th>35</th>\n",
       "      <td>172</td>\n",
       "      <td>Cream 172</td>\n",
       "      <td>Dairy</td>\n",
       "      <td>13.45</td>\n",
       "      <td>499</td>\n",
       "    </tr>\n",
       "    <tr>\n",
       "      <th>36</th>\n",
       "      <td>175</td>\n",
       "      <td>Milk 175</td>\n",
       "      <td>Dairy</td>\n",
       "      <td>35.42</td>\n",
       "      <td>185</td>\n",
       "    </tr>\n",
       "    <tr>\n",
       "      <th>37</th>\n",
       "      <td>182</td>\n",
       "      <td>Milk 182</td>\n",
       "      <td>Dairy</td>\n",
       "      <td>0.00</td>\n",
       "      <td>409</td>\n",
       "    </tr>\n",
       "    <tr>\n",
       "      <th>38</th>\n",
       "      <td>184</td>\n",
       "      <td>Milk 184</td>\n",
       "      <td>Dairy</td>\n",
       "      <td>17.56</td>\n",
       "      <td>101</td>\n",
       "    </tr>\n",
       "    <tr>\n",
       "      <th>39</th>\n",
       "      <td>189</td>\n",
       "      <td>Milk 189</td>\n",
       "      <td>Dairy</td>\n",
       "      <td>42.11</td>\n",
       "      <td>67</td>\n",
       "    </tr>\n",
       "    <tr>\n",
       "      <th>40</th>\n",
       "      <td>190</td>\n",
       "      <td>Cheese 190</td>\n",
       "      <td>Dairy</td>\n",
       "      <td>2.49</td>\n",
       "      <td>189</td>\n",
       "    </tr>\n",
       "    <tr>\n",
       "      <th>41</th>\n",
       "      <td>195</td>\n",
       "      <td>Yogurt 195</td>\n",
       "      <td>Dairy</td>\n",
       "      <td>31.52</td>\n",
       "      <td>205</td>\n",
       "    </tr>\n",
       "  </tbody>\n",
       "</table>\n",
       "</div>"
      ],
      "text/plain": [
       "    productid productname category  price  stockquantity\n",
       "0         131  Cheese 131    Dairy  42.70            122\n",
       "1         140  Yogurt 140    Dairy   1.89            407\n",
       "2         141    Milk 141    Dairy  16.94            413\n",
       "3         149   Cream 149    Dairy  44.71            292\n",
       "4           1      Milk 1    Dairy  19.35            358\n",
       "5           4     Cream 4    Dairy  22.85            224\n",
       "6           5     Cream 5    Dairy   3.85             97\n",
       "7           7      Milk 7    Dairy  35.70              0\n",
       "8          10    Cream 10    Dairy   1.04            453\n",
       "9          11   Tomato 11    dairy   9.99            469\n",
       "10         19   Butter 19    Dairy  49.18            140\n",
       "11         20   Yogurt 20    Dairy  43.14            144\n",
       "12         24   Butter 24    Dairy  19.89            355\n",
       "13         25    Cream 25    Dairy   5.79            349\n",
       "14         29   Cheese 29    Dairy  20.16             59\n",
       "15         58     Milk 58    Dairy  24.14            110\n",
       "16         61   Butter 61    Dairy  12.56            407\n",
       "17         65     Milk 65    Dairy  10.88            361\n",
       "18         70   Yogurt 70    Dairy  38.02             45\n",
       "19         80   Yogurt 80    Dairy   6.39            386\n",
       "20         82   Cheese 82    Dairy  41.08            242\n",
       "21         84   Butter 84    Dairy  26.03            146\n",
       "22         85    Cream 85    Dairy  24.76            234\n",
       "23         95   Cheese 95    Dairy  48.85            229\n",
       "24        101    Milk 101    Dairy  30.04            448\n",
       "25        103  Yogurt 103    Dairy  12.87            303\n",
       "26        104   Cream 104    Dairy  19.02            381\n",
       "27        112  Butter 112    Dairy  26.09            156\n",
       "28        115    Milk 115    Dairy  20.48             48\n",
       "29        116  Butter 116    Dairy  46.90            138\n",
       "30        125    Milk 125    Dairy  28.36            169\n",
       "31        127  Cheese 127    Dairy  14.66            156\n",
       "32        161  Butter 161    Dairy  21.98            190\n",
       "33        163    Milk 163    Dairy  42.80            200\n",
       "34        167  Cheese 167    Dairy  28.28            232\n",
       "35        172   Cream 172    Dairy  13.45            499\n",
       "36        175    Milk 175    Dairy  35.42            185\n",
       "37        182    Milk 182    Dairy   0.00            409\n",
       "38        184    Milk 184    Dairy  17.56            101\n",
       "39        189    Milk 189    Dairy  42.11             67\n",
       "40        190  Cheese 190    Dairy   2.49            189\n",
       "41        195  Yogurt 195    Dairy  31.52            205"
      ]
     },
     "execution_count": 124,
     "metadata": {},
     "output_type": "execute_result"
    }
   ],
   "source": [
    "#4.1 query to fetch all products in the dairy category\n",
    "conn = get_db_connection()\n",
    "query = \"\"\"\n",
    "        SELECT *\n",
    "        FROM freshmart.products1\n",
    "        WHERE UPPER(category)='DAIRY'\n",
    "\"\"\"\n",
    "# Commit the changes and close the connection\n",
    "df4_1 = pd.read_sql_query(query,conn)\n",
    "conn.close()\n",
    "df4_1"
   ]
  },
  {
   "cell_type": "code",
   "execution_count": 125,
   "id": "3fd7d047",
   "metadata": {},
   "outputs": [
    {
     "name": "stderr",
     "output_type": "stream",
     "text": [
      "C:\\Users\\Victoria Ogunnaike\\anaconda3\\lib\\site-packages\\pandas\\io\\sql.py:762: UserWarning: pandas only support SQLAlchemy connectable(engine/connection) ordatabase string URI or sqlite3 DBAPI2 connectionother DBAPI2 objects are not tested, please consider using SQLAlchemy\n",
      "  warnings.warn(\n"
     ]
    },
    {
     "data": {
      "text/html": [
       "<div>\n",
       "<style scoped>\n",
       "    .dataframe tbody tr th:only-of-type {\n",
       "        vertical-align: middle;\n",
       "    }\n",
       "\n",
       "    .dataframe tbody tr th {\n",
       "        vertical-align: top;\n",
       "    }\n",
       "\n",
       "    .dataframe thead th {\n",
       "        text-align: right;\n",
       "    }\n",
       "</style>\n",
       "<table border=\"1\" class=\"dataframe\">\n",
       "  <thead>\n",
       "    <tr style=\"text-align: right;\">\n",
       "      <th></th>\n",
       "      <th>productid</th>\n",
       "      <th>productname</th>\n",
       "      <th>category</th>\n",
       "      <th>price</th>\n",
       "      <th>stockquantity</th>\n",
       "    </tr>\n",
       "  </thead>\n",
       "  <tbody>\n",
       "    <tr>\n",
       "      <th>0</th>\n",
       "      <td>130</td>\n",
       "      <td>Lettuce 130</td>\n",
       "      <td>Produce</td>\n",
       "      <td>39.21</td>\n",
       "      <td>0</td>\n",
       "    </tr>\n",
       "    <tr>\n",
       "      <th>1</th>\n",
       "      <td>146</td>\n",
       "      <td>Apple 146</td>\n",
       "      <td>Produce</td>\n",
       "      <td>32.18</td>\n",
       "      <td>31</td>\n",
       "    </tr>\n",
       "    <tr>\n",
       "      <th>2</th>\n",
       "      <td>147</td>\n",
       "      <td>Chips 147</td>\n",
       "      <td>Snacks</td>\n",
       "      <td>12.96</td>\n",
       "      <td>47</td>\n",
       "    </tr>\n",
       "    <tr>\n",
       "      <th>3</th>\n",
       "      <td>7</td>\n",
       "      <td>Milk 7</td>\n",
       "      <td>Dairy</td>\n",
       "      <td>35.70</td>\n",
       "      <td>0</td>\n",
       "    </tr>\n",
       "    <tr>\n",
       "      <th>4</th>\n",
       "      <td>30</td>\n",
       "      <td>Orange Juice 30</td>\n",
       "      <td>Beverages</td>\n",
       "      <td>33.46</td>\n",
       "      <td>11</td>\n",
       "    </tr>\n",
       "    <tr>\n",
       "      <th>5</th>\n",
       "      <td>57</td>\n",
       "      <td>Bread 57</td>\n",
       "      <td>Bakery</td>\n",
       "      <td>14.46</td>\n",
       "      <td>44</td>\n",
       "    </tr>\n",
       "    <tr>\n",
       "      <th>6</th>\n",
       "      <td>70</td>\n",
       "      <td>Yogurt 70</td>\n",
       "      <td>Dairy</td>\n",
       "      <td>38.02</td>\n",
       "      <td>45</td>\n",
       "    </tr>\n",
       "    <tr>\n",
       "      <th>7</th>\n",
       "      <td>89</td>\n",
       "      <td>Granola Bar 89</td>\n",
       "      <td>Snacks</td>\n",
       "      <td>28.35</td>\n",
       "      <td>0</td>\n",
       "    </tr>\n",
       "    <tr>\n",
       "      <th>8</th>\n",
       "      <td>115</td>\n",
       "      <td>Milk 115</td>\n",
       "      <td>Dairy</td>\n",
       "      <td>20.48</td>\n",
       "      <td>48</td>\n",
       "    </tr>\n",
       "    <tr>\n",
       "      <th>9</th>\n",
       "      <td>121</td>\n",
       "      <td>Croissant 121</td>\n",
       "      <td>Bakery</td>\n",
       "      <td>9.57</td>\n",
       "      <td>0</td>\n",
       "    </tr>\n",
       "    <tr>\n",
       "      <th>10</th>\n",
       "      <td>126</td>\n",
       "      <td>Chips 126</td>\n",
       "      <td>Snacks</td>\n",
       "      <td>32.02</td>\n",
       "      <td>18</td>\n",
       "    </tr>\n",
       "    <tr>\n",
       "      <th>11</th>\n",
       "      <td>154</td>\n",
       "      <td>Granola Bar 154</td>\n",
       "      <td>Snacks</td>\n",
       "      <td>25.46</td>\n",
       "      <td>13</td>\n",
       "    </tr>\n",
       "    <tr>\n",
       "      <th>12</th>\n",
       "      <td>158</td>\n",
       "      <td>Croissant 158</td>\n",
       "      <td>Bakery</td>\n",
       "      <td>14.70</td>\n",
       "      <td>15</td>\n",
       "    </tr>\n",
       "    <tr>\n",
       "      <th>13</th>\n",
       "      <td>166</td>\n",
       "      <td>Carrot 166</td>\n",
       "      <td>Produce</td>\n",
       "      <td>24.78</td>\n",
       "      <td>27</td>\n",
       "    </tr>\n",
       "    <tr>\n",
       "      <th>14</th>\n",
       "      <td>180</td>\n",
       "      <td>Mineral Water 180</td>\n",
       "      <td>Beverages</td>\n",
       "      <td>25.57</td>\n",
       "      <td>0</td>\n",
       "    </tr>\n",
       "  </tbody>\n",
       "</table>\n",
       "</div>"
      ],
      "text/plain": [
       "    productid        productname   category  price  stockquantity\n",
       "0         130        Lettuce 130    Produce  39.21              0\n",
       "1         146          Apple 146    Produce  32.18             31\n",
       "2         147          Chips 147     Snacks  12.96             47\n",
       "3           7             Milk 7      Dairy  35.70              0\n",
       "4          30    Orange Juice 30  Beverages  33.46             11\n",
       "5          57           Bread 57     Bakery  14.46             44\n",
       "6          70          Yogurt 70      Dairy  38.02             45\n",
       "7          89     Granola Bar 89     Snacks  28.35              0\n",
       "8         115           Milk 115      Dairy  20.48             48\n",
       "9         121      Croissant 121     Bakery   9.57              0\n",
       "10        126          Chips 126     Snacks  32.02             18\n",
       "11        154    Granola Bar 154     Snacks  25.46             13\n",
       "12        158      Croissant 158     Bakery  14.70             15\n",
       "13        166         Carrot 166    Produce  24.78             27\n",
       "14        180  Mineral Water 180  Beverages  25.57              0"
      ]
     },
     "execution_count": 125,
     "metadata": {},
     "output_type": "execute_result"
    }
   ],
   "source": [
    "#4.2 query to fetch all products with stockquantity<50\n",
    "conn = get_db_connection()\n",
    "query = \"\"\"\n",
    "        SELECT *\n",
    "        FROM freshmart.products1\n",
    "        WHERE StockQuantity<50\n",
    "\"\"\"\n",
    "# Commit the changes and close the connection\n",
    "df4_2 = pd.read_sql_query(query,conn)\n",
    "conn.close()\n",
    "df4_2"
   ]
  },
  {
   "cell_type": "code",
   "execution_count": null,
   "id": "ec68ed42",
   "metadata": {},
   "outputs": [],
   "source": []
  },
  {
   "cell_type": "code",
   "execution_count": 123,
   "id": "f163e387",
   "metadata": {},
   "outputs": [
    {
     "data": {
      "text/plain": [
       "<function cursor.fetchall>"
      ]
     },
     "execution_count": 123,
     "metadata": {},
     "output_type": "execute_result"
    }
   ],
   "source": [
    "df4_1"
   ]
  },
  {
   "cell_type": "code",
   "execution_count": 121,
   "id": "3bc5f708",
   "metadata": {},
   "outputs": [
    {
     "ename": "ValueError",
     "evalue": "DataFrame constructor not properly called!",
     "output_type": "error",
     "traceback": [
      "\u001b[1;31m---------------------------------------------------------------------------\u001b[0m",
      "\u001b[1;31mValueError\u001b[0m                                Traceback (most recent call last)",
      "\u001b[1;32m~\\AppData\\Local\\Temp\\ipykernel_58956\\132177577.py\u001b[0m in \u001b[0;36m<module>\u001b[1;34m\u001b[0m\n\u001b[1;32m----> 1\u001b[1;33m \u001b[0mpd\u001b[0m\u001b[1;33m.\u001b[0m\u001b[0mDataFrame\u001b[0m\u001b[1;33m(\u001b[0m\u001b[0mdf4_1\u001b[0m\u001b[1;33m)\u001b[0m\u001b[1;33m\u001b[0m\u001b[1;33m\u001b[0m\u001b[0m\n\u001b[0m",
      "\u001b[1;32m~\\anaconda3\\lib\\site-packages\\pandas\\core\\frame.py\u001b[0m in \u001b[0;36m__init__\u001b[1;34m(self, data, index, columns, dtype, copy)\u001b[0m\n\u001b[0;32m    754\u001b[0m         \u001b[1;32melse\u001b[0m\u001b[1;33m:\u001b[0m\u001b[1;33m\u001b[0m\u001b[1;33m\u001b[0m\u001b[0m\n\u001b[0;32m    755\u001b[0m             \u001b[1;32mif\u001b[0m \u001b[0mindex\u001b[0m \u001b[1;32mis\u001b[0m \u001b[1;32mNone\u001b[0m \u001b[1;32mor\u001b[0m \u001b[0mcolumns\u001b[0m \u001b[1;32mis\u001b[0m \u001b[1;32mNone\u001b[0m\u001b[1;33m:\u001b[0m\u001b[1;33m\u001b[0m\u001b[1;33m\u001b[0m\u001b[0m\n\u001b[1;32m--> 756\u001b[1;33m                 \u001b[1;32mraise\u001b[0m \u001b[0mValueError\u001b[0m\u001b[1;33m(\u001b[0m\u001b[1;34m\"DataFrame constructor not properly called!\"\u001b[0m\u001b[1;33m)\u001b[0m\u001b[1;33m\u001b[0m\u001b[1;33m\u001b[0m\u001b[0m\n\u001b[0m\u001b[0;32m    757\u001b[0m \u001b[1;33m\u001b[0m\u001b[0m\n\u001b[0;32m    758\u001b[0m             \u001b[1;31m# Argument 1 to \"ensure_index\" has incompatible type \"Collection[Any]\";\u001b[0m\u001b[1;33m\u001b[0m\u001b[1;33m\u001b[0m\u001b[0m\n",
      "\u001b[1;31mValueError\u001b[0m: DataFrame constructor not properly called!"
     ]
    }
   ],
   "source": [
    "pd.DataFrame(df4_1)"
   ]
  },
  {
   "cell_type": "code",
   "execution_count": null,
   "id": "d0adc39e",
   "metadata": {},
   "outputs": [],
   "source": []
  },
  {
   "cell_type": "code",
   "execution_count": 122,
   "id": "92f96a75",
   "metadata": {},
   "outputs": [
    {
     "ename": "ValueError",
     "evalue": "DataFrame constructor not properly called!",
     "output_type": "error",
     "traceback": [
      "\u001b[1;31m---------------------------------------------------------------------------\u001b[0m",
      "\u001b[1;31mValueError\u001b[0m                                Traceback (most recent call last)",
      "\u001b[1;32m~\\AppData\\Local\\Temp\\ipykernel_58956\\1517636850.py\u001b[0m in \u001b[0;36m<module>\u001b[1;34m\u001b[0m\n\u001b[1;32m----> 1\u001b[1;33m \u001b[0mdf4_11\u001b[0m \u001b[1;33m=\u001b[0m \u001b[0mpd\u001b[0m\u001b[1;33m.\u001b[0m\u001b[0mDataFrame\u001b[0m\u001b[1;33m(\u001b[0m\u001b[0mdf4_1\u001b[0m\u001b[1;33m)\u001b[0m\u001b[1;33m\u001b[0m\u001b[1;33m\u001b[0m\u001b[0m\n\u001b[0m",
      "\u001b[1;32m~\\anaconda3\\lib\\site-packages\\pandas\\core\\frame.py\u001b[0m in \u001b[0;36m__init__\u001b[1;34m(self, data, index, columns, dtype, copy)\u001b[0m\n\u001b[0;32m    754\u001b[0m         \u001b[1;32melse\u001b[0m\u001b[1;33m:\u001b[0m\u001b[1;33m\u001b[0m\u001b[1;33m\u001b[0m\u001b[0m\n\u001b[0;32m    755\u001b[0m             \u001b[1;32mif\u001b[0m \u001b[0mindex\u001b[0m \u001b[1;32mis\u001b[0m \u001b[1;32mNone\u001b[0m \u001b[1;32mor\u001b[0m \u001b[0mcolumns\u001b[0m \u001b[1;32mis\u001b[0m \u001b[1;32mNone\u001b[0m\u001b[1;33m:\u001b[0m\u001b[1;33m\u001b[0m\u001b[1;33m\u001b[0m\u001b[0m\n\u001b[1;32m--> 756\u001b[1;33m                 \u001b[1;32mraise\u001b[0m \u001b[0mValueError\u001b[0m\u001b[1;33m(\u001b[0m\u001b[1;34m\"DataFrame constructor not properly called!\"\u001b[0m\u001b[1;33m)\u001b[0m\u001b[1;33m\u001b[0m\u001b[1;33m\u001b[0m\u001b[0m\n\u001b[0m\u001b[0;32m    757\u001b[0m \u001b[1;33m\u001b[0m\u001b[0m\n\u001b[0;32m    758\u001b[0m             \u001b[1;31m# Argument 1 to \"ensure_index\" has incompatible type \"Collection[Any]\";\u001b[0m\u001b[1;33m\u001b[0m\u001b[1;33m\u001b[0m\u001b[0m\n",
      "\u001b[1;31mValueError\u001b[0m: DataFrame constructor not properly called!"
     ]
    }
   ],
   "source": [
    "df4_11 = pd.DataFrame(df4_1)"
   ]
  },
  {
   "cell_type": "code",
   "execution_count": null,
   "id": "68b04d35",
   "metadata": {},
   "outputs": [],
   "source": []
  },
  {
   "cell_type": "code",
   "execution_count": null,
   "id": "37d2eacf",
   "metadata": {},
   "outputs": [],
   "source": []
  },
  {
   "cell_type": "code",
   "execution_count": null,
   "id": "7e3d7843",
   "metadata": {},
   "outputs": [],
   "source": []
  }
 ],
 "metadata": {
  "kernelspec": {
   "display_name": "Python 3 (ipykernel)",
   "language": "python",
   "name": "python3"
  },
  "language_info": {
   "codemirror_mode": {
    "name": "ipython",
    "version": 3
   },
   "file_extension": ".py",
   "mimetype": "text/x-python",
   "name": "python",
   "nbconvert_exporter": "python",
   "pygments_lexer": "ipython3",
   "version": "3.9.13"
  }
 },
 "nbformat": 4,
 "nbformat_minor": 5
}
